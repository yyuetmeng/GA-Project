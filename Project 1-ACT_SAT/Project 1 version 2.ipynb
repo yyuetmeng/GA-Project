{
 "cells": [
  {
   "cell_type": "markdown",
   "metadata": {},
   "source": [
    "<img src=\"http://imgur.com/1ZcRyrc.png\" style=\"float: left; margin: 20px; height: 55px\">\n",
    "\n",
    "# Project 1: Standardized Test Analysis"
   ]
  },
  {
   "cell_type": "markdown",
   "metadata": {},
   "source": [
    "### General comments and resources:\n",
    "- Include comments in your code to explain what each section of code does\n",
    "    - You did a good job with this on the code you used to generate the correlation matrix, so please do the same for the rest of your code\n",
    "- Use markdown cells to provide structure to your notebook and explain data cleaning steps\n",
    "    - Use headings to differentiate subsections\n",
    "    - Explain data cleaning choices -- for example, why was Wyoming removed from the dataset?\n",
    "    - You seem to be having difficulty with markdown. I've found this guide helpful, please refer to it. ([click here](https://www.datacamp.com/community/tutorials/markdown-in-jupyter-notebook))\n",
    "- Read instructions carefully and demonstrate that you have accomplished each bullet point. Currently, you have not met some of the bullet points, or have not demonstrated that you have accomplished them.\n",
    "    - I have pointed out some of the bullet points that have not been fulfilled\n",
    "- Please follow the Python style guide ([click here](https://www.python.org/dev/peps/pep-0008/))\n",
    "    - It's rather long, but please start by reading the section on blank lines and the section on indentation\n",
    "    - You have inconsistent styling throughout the notebook\n",
    "- Explain your visualizations\n",
    "    - You have used markdown cells to interpret the graphs (e.g. X and Y are negative correlated), but please also make an attempt to explain WHY they are negatively correlated, and what that MEANS for your problem statement.\n",
    "    "
   ]
  },
  {
   "cell_type": "markdown",
   "metadata": {},
   "source": [
    "--- \n",
    "# Part 1\n",
    "\n",
    "Part 1 requires knowledge of basic Python.\n",
    "\n",
    "---"
   ]
  },
  {
   "cell_type": "markdown",
   "metadata": {},
   "source": [
    "## Problem Statement"
   ]
  },
  {
   "cell_type": "markdown",
   "metadata": {},
   "source": [
    "## The new format for the SAT was released in March 2016. As an employee of the College Board - the organization that administers the SAT – I am part of a team that tracks statewide participation and recommends where money is best spent to improve SAT participation rates."
   ]
  },
  {
   "cell_type": "markdown",
   "metadata": {},
   "source": [
    "### Contents:\n",
    "- [Background](#Background)\n",
    "- [Data Import & Cleaning](#Data-Import-and-Cleaning)\n",
    "- [Exploratory Data Analysis](#Exploratory-Data-Analysis)\n",
    "- [Data Visualization](#Visualize-the-Data)\n",
    "- [Conclusions and Recommendations](#Conclusions-and-Recommendations)"
   ]
  },
  {
   "cell_type": "markdown",
   "metadata": {},
   "source": [
    "## Background"
   ]
  },
  {
   "cell_type": "markdown",
   "metadata": {},
   "source": [
    "The SAT and ACT are standardized tests that many colleges and universities in the United States require for their admissions process. This score is used along with other materials such as grade point average (GPA) and essay responses to determine whether or not a potential student will be accepted to the university.\n",
    "\n",
    "The SAT has two sections of the test: Evidence-Based Reading and Writing and Math ([*source*](https://www.princetonreview.com/college/sat-sections)). The ACT has 4 sections: English, Mathematics, Reading, and Science, with an additional optional writing section ([*source*](https://www.act.org/content/act/en/products-and-services/the-act/scores/understanding-your-scores.html)). They have different score ranges, which you can read more about on their websites or additional outside sources (a quick Google search will help you understand the scores for each test):\n",
    "* [SAT](https://collegereadiness.collegeboard.org/sat)\n",
    "* [ACT](https://www.act.org/content/act/en.html)\n",
    "\n",
    "Standardized tests have long been a controversial topic for students, administrators, and legislators. Since the 1940's, an increasing number of colleges have been using scores from sudents' performances on tests like the SAT and the ACT as a measure for college readiness and aptitude ([*source*](https://www.minotdailynews.com/news/local-news/2017/04/a-brief-history-of-the-sat-and-act/)). Supporters of these tests argue that these scores can be used as an objective measure to determine college admittance. Opponents of these tests claim that these tests are not accurate measures of students potential or ability and serve as an inequitable barrier to entry. Lately, more and more schools are opting to drop the SAT/ACT requirement for their Fall 2021 applications ([*read more about this here*](https://www.cnn.com/2020/04/14/us/coronavirus-colleges-sat-act-test-trnd/index.html))."
   ]
  },
  {
   "cell_type": "markdown",
   "metadata": {},
   "source": []
  },
  {
   "cell_type": "markdown",
   "metadata": {},
   "source": [
    "**Data Chosen for this project** Below are the datasets that are used in this analysis\n",
    "- act_2017.csv: 2017 ACT Scores by State\n",
    "- act_2018.csv: 2018 ACT Scores by State\n",
    "- act_2019.csv: 2019 ACT Scores by State\n",
    "- sat_2017.csv: 2017 SAT Scores by State\n",
    "- sat_2018.csv: 2018 SAT Scores by State\n",
    "- sat_2019.csv: 2019 SAT Scores by State\n",
    "\n"
   ]
  },
  {
   "cell_type": "markdown",
   "metadata": {},
   "source": [
    "### Outside Research"
   ]
  },
  {
   "cell_type": "markdown",
   "metadata": {},
   "source": [
    "Based on your problem statement and your chosen datasets, spend some time doing outside research on state policies or additional information that might be relevant. Summarize your findings below. If you bring in any outside tables or charts, make sure you are explicit about having borrowed them. If you quote any text, make sure that it renders as being quoted. **Make sure that you cite your sources.**"
   ]
  },
  {
   "cell_type": "markdown",
   "metadata": {},
   "source": [
    "**Below are listing of outside research that aid in this project** \n",
    "\n",
    "Additional Research\n",
    "https://prepexpert.com/act-grading-scale/- explains how the scoring system of ACT\n"
   ]
  },
  {
   "cell_type": "markdown",
   "metadata": {},
   "source": [
    "### Coding Challenges\n",
    "\n",
    "1. Manually calculate mean:\n",
    "\n",
    "    Write a function that takes in values and returns the mean of the values. Create a list of numbers that you test on your function to check to make sure your function works!\n",
    "    \n",
    "    *Note*: Do not use any mean methods built-in to any Python libraries to do this! This should be done without importing any additional libraries.\n",
    "    \n"
   ]
  },
  {
   "cell_type": "code",
   "execution_count": 872,
   "metadata": {},
   "outputs": [
    {
     "name": "stdout",
     "output_type": "stream",
     "text": [
      "4.25\n"
     ]
    }
   ],
   "source": [
    "def calculate_mean(v):\n",
    "       return sum(v)/len(v)\n",
    "v=[2,4,5,6]\n",
    "output= calculate_mean(v)\n",
    "print(output)"
   ]
  },
  {
   "cell_type": "markdown",
   "metadata": {},
   "source": [
    "2. Manually calculate standard deviation:\n",
    "\n",
    "    The formula for standard deviation is below:\n",
    "\n",
    "    $$\\sigma = \\sqrt{\\frac{1}{n}\\sum_{i=1}^n(x_i - \\mu)^2}$$\n",
    "\n",
    "    Where $x_i$ represents each value in the dataset, $\\mu$ represents the mean of all values in the dataset and $n$ represents the number of values in the dataset.\n",
    "\n",
    "    Write a function that takes in values and returns the standard deviation of the values using the formula above. Hint: use the function you wrote above to calculate the mean! Use the list of numbers you created above to test on your function.\n",
    "    \n",
    "    *Note*: Do not use any standard deviation methods built-in to any Python libraries to do this! This should be done without importing any additional libraries.\n",
    "    \n"
   ]
  },
  {
   "cell_type": "code",
   "execution_count": 873,
   "metadata": {},
   "outputs": [
    {
     "name": "stdout",
     "output_type": "stream",
     "text": [
      "5.678027826631356\n"
     ]
    }
   ],
   "source": [
    "def calculate_std(v):\n",
    "    sumnum=0\n",
    "    for i in v:\n",
    "        sumnum = (i-calculate_mean(v))**2 +sumnum \n",
    "    sumnum=sumnum/len(v)\n",
    "    return sumnum**0.5\n",
    "v=[2,6,7,8,19]\n",
    "s1=calculate_std(v)\n",
    "print(s1)\n"
   ]
  },
  {
   "cell_type": "markdown",
   "metadata": {},
   "source": [
    "3. Data cleaning function:\n",
    "    \n",
    "    Write a function that takes in a string that is a number and a percent symbol (ex. '50%', '30.5%', etc.) and converts this to a float that is the decimal approximation of the percent. For example, inputting '50%' in your function should return 0.5, '30.5%' should return 0.305, etc. Make sure to test your function to make sure it works!\n",
    "\n",
    "You will use these functions later on in the project!\n",
    "\n"
   ]
  },
  {
   "cell_type": "code",
   "execution_count": 874,
   "metadata": {},
   "outputs": [
    {
     "name": "stdout",
     "output_type": "stream",
     "text": [
      "0.305\n"
     ]
    }
   ],
   "source": [
    "def clean_data(str1):\n",
    "    indexnum=str1.find('%')\n",
    "    outputstr=str1[:indexnum]\n",
    "    return float(outputstr)/100\n",
    "\n",
    "teststr=\"30.5%\"\n",
    "val=clean_data(teststr)\n",
    "print(val)"
   ]
  },
  {
   "cell_type": "markdown",
   "metadata": {},
   "source": [
    "--- \n",
    "# Part 2\n",
    "\n",
    "Part 2 requires knowledge of Pandas, EDA, data cleaning, and data visualization.\n",
    "\n",
    "---"
   ]
  },
  {
   "cell_type": "markdown",
   "metadata": {},
   "source": [
    "*All libraries used should be added here*"
   ]
  },
  {
   "cell_type": "code",
   "execution_count": 875,
   "metadata": {},
   "outputs": [],
   "source": [
    "# Imports:\n",
    "import numpy as np\n",
    "import pandas as pd\n",
    "import matplotlib.pyplot as plt\n",
    "import seaborn as sns"
   ]
  },
  {
   "cell_type": "markdown",
   "metadata": {},
   "source": [
    "## Data Import And Cleaning\n",
    "- I am extracting the ACT Scores and Participation for the states (act_2017.csv, act_2018.csv and act_2019.csv)"
   ]
  },
  {
   "cell_type": "markdown",
   "metadata": {},
   "source": [
    "**Data Cleaning Process**\n",
    "1. Check for missing values I use the .info() to show if there are missing values. There are no missing info based on the result as the count tallies with all the rows in the fields."
   ]
  },
  {
   "cell_type": "code",
   "execution_count": 876,
   "metadata": {},
   "outputs": [
    {
     "name": "stdout",
     "output_type": "stream",
     "text": [
      "<class 'pandas.core.frame.DataFrame'>\n",
      "RangeIndex: 52 entries, 0 to 51\n",
      "Data columns (total 8 columns):\n",
      " #   Column         Non-Null Count  Dtype  \n",
      "---  ------         --------------  -----  \n",
      " 0   State          52 non-null     object \n",
      " 1   Participation  52 non-null     object \n",
      " 2   English        52 non-null     float64\n",
      " 3   Math           52 non-null     float64\n",
      " 4   Reading        52 non-null     float64\n",
      " 5   Science        52 non-null     float64\n",
      " 6   Composite      52 non-null     object \n",
      " 7   Year           52 non-null     object \n",
      "dtypes: float64(4), object(4)\n",
      "memory usage: 3.4+ KB\n",
      "db_act2017\n",
      " None\n",
      "<class 'pandas.core.frame.DataFrame'>\n",
      "RangeIndex: 52 entries, 0 to 51\n",
      "Data columns (total 4 columns):\n",
      " #   Column         Non-Null Count  Dtype  \n",
      "---  ------         --------------  -----  \n",
      " 0   State          52 non-null     object \n",
      " 1   Participation  52 non-null     object \n",
      " 2   Composite      52 non-null     float64\n",
      " 3   Year           52 non-null     object \n",
      "dtypes: float64(1), object(3)\n",
      "memory usage: 1.8+ KB\n",
      "db_act2018\n",
      " None\n",
      "<class 'pandas.core.frame.DataFrame'>\n",
      "RangeIndex: 52 entries, 0 to 51\n",
      "Data columns (total 4 columns):\n",
      " #   Column         Non-Null Count  Dtype  \n",
      "---  ------         --------------  -----  \n",
      " 0   State          52 non-null     object \n",
      " 1   Participation  52 non-null     object \n",
      " 2   Composite      52 non-null     float64\n",
      " 3   Year           52 non-null     object \n",
      "dtypes: float64(1), object(3)\n",
      "memory usage: 1.8+ KB\n",
      "db_act2019\n",
      " None\n"
     ]
    }
   ],
   "source": [
    "db_act2017 = pd.read_csv(\n",
    "    'data/act_2017.csv',\n",
    "    sep=','\n",
    ")  \n",
    "\n",
    "db_act2017['Year']=\"2017\"\n",
    "db_act2018 = pd.read_csv(\n",
    "    'data/act_2018.csv',\n",
    "    sep=','   \n",
    ")\n",
    "db_act2018['Year']=\"2018\"\n",
    "db_act2019 = pd.read_csv(\n",
    "    'data/act_2019.csv',\n",
    "    sep=','    \n",
    ")\n",
    "db_act2019['Year']=\"2019\"\n",
    "\n",
    "#Check for missing values\n",
    "print(\"db_act2017\\n\",db_act2017.info())\n",
    "print(\"db_act2018\\n\",db_act2018.info())\n",
    "print(\"db_act2019\\n\",db_act2019.info())\n"
   ]
  },
  {
   "cell_type": "markdown",
   "metadata": {},
   "source": [
    "2. Check for any obvious issues with the observations (keep in mind the minimum & maximum possible values for each test/subtest) I use the 'describe()' to find out the min and max values of the dataset. Based on result, db_act2017 has an exceptional low raw score for Science. When check against the ACT scoring system, the lowest raw score for Science is 7. So the value for the lowest score in Science is 2017 is invalid. The data originates from state Maryland. I replaced the row for Maryland in 2017 dataset with the correct value 23.2. The data field 'Composite' for state 'Wyoming' is invalid. I replaced the row datafield 'Composite' to 20.2 for 'Wyoming' in 2017 dataset. The row in 2018 dataset having \"District of columbia\" is not correct. I replace the value with \"District of Columbia\" to align with 2017 and 2019 dataset. In 2018 dataset, there is a duplicate entry for state 'Maine'. I fixed by removing the duplicate row."
   ]
  },
  {
   "cell_type": "code",
   "execution_count": 877,
   "metadata": {},
   "outputs": [
    {
     "name": "stdout",
     "output_type": "stream",
     "text": [
      "db_act2017\n",
      "          English       Math    Reading    Science\n",
      "count  52.000000  52.000000  52.000000  52.000000\n",
      "mean   20.919231  21.173077  22.001923  21.040385\n",
      "std     2.332132   1.963602   2.048672   3.151113\n",
      "min    16.300000  18.000000  18.100000   2.300000\n",
      "25%    19.000000  19.400000  20.475000  19.900000\n",
      "50%    20.550000  20.900000  21.700000  21.150000\n",
      "75%    23.300000  23.100000  24.125000  22.525000\n",
      "max    25.500000  25.300000  26.000000  24.900000\n",
      "db_act2018\n",
      "        Composite\n",
      "count  52.000000\n",
      "mean   21.544231\n",
      "std     2.119417\n",
      "min    17.700000\n",
      "25%    19.975000\n",
      "50%    21.300000\n",
      "75%    23.725000\n",
      "max    25.600000\n",
      "db_act2019\n",
      "        Composite\n",
      "count  52.000000\n",
      "mean   21.450000\n",
      "std     2.175487\n",
      "min    17.900000\n",
      "25%    19.800000\n",
      "50%    20.950000\n",
      "75%    23.650000\n",
      "max    25.500000\n"
     ]
    }
   ],
   "source": [
    "#Check for obvious invalid data\n",
    "print(\"db_act2017\\n\",db_act2017.describe())\n",
    "print(\"db_act2018\\n\",db_act2018.describe())\n",
    "print(\"db_act2019\\n\",db_act2019.describe())\n",
    "\n",
    "#to remove invalid data in db_act2017\n",
    "db_act2017.drop((db_act2017[db_act2017['State'].str.contains('Maryland')]).index, inplace=True)\n",
    "db_act2017=db_act2017.replace('20.2x','20.2')\n",
    "db_act2018=db_act2018.replace('District of columbia','District of Columbia')\n",
    "db_act_2018=db_act2018.drop_duplicates()\n",
    "\n",
    "#add on\n",
    "new_row = {'State':'Maryland', 'Participation':'28%', 'English':23.3, 'Math':23.1,'Reading':24.2,'Science':23.2,'Composite':23.6,'Year':'2017'}\n",
    "#append row to the dataframe\n",
    "db_act2017 = db_act2017.append(new_row, ignore_index=True)\n"
   ]
  },
  {
   "cell_type": "markdown",
   "metadata": {},
   "source": [
    "3. Fix any incorrect data types found Based on the '.info()', I discovered that the 'Composite' field is of type Object. I converted the field type of 'Composite' field to float. The 'Participation' fields in of type object and expressed as %. I removed the % from the object and converted to float for all 2017, 2018 and 2019 dataset"
   ]
  },
  {
   "cell_type": "code",
   "execution_count": 878,
   "metadata": {},
   "outputs": [],
   "source": [
    "#Fix any incorrect data types found\n",
    "db_act2017[\"Composite\"] = db_act2017[\"Composite\"].astype(str).astype(float)\n",
    "db_act2017['Participation']=db_act2017['Participation'].map(lambda x :clean_data(x))\n",
    "db_act2017[\"Participation\"] = db_act2017[\"Participation\"].astype(str).astype(float)\n",
    "db_act2018[\"Composite\"] = db_act2018[\"Composite\"].astype(str).astype(float)\n",
    "db_act2018['Participation']=db_act2018['Participation'].map(lambda x :clean_data(x))\n",
    "db_act2018[\"Participation\"] = db_act2018[\"Participation\"].astype(str).astype(float)\n",
    "db_act2019[\"Composite\"] = db_act2019[\"Composite\"].astype(str).astype(float)\n",
    "db_act2019['Participation']=db_act2019['Participation'].map(lambda x :clean_data(x))\n",
    "db_act2019[\"Participation\"] = db_act2019[\"Participation\"].astype(str).astype(float)\n"
   ]
  },
  {
   "cell_type": "markdown",
   "metadata": {},
   "source": [
    "4. Rename the columns- The columns are renamed to lowercase"
   ]
  },
  {
   "cell_type": "code",
   "execution_count": 879,
   "metadata": {},
   "outputs": [],
   "source": [
    "#Rename the column name to lowercase\n",
    "new_columns_dict = {\n",
    "     \"State\":\"state\",\n",
    "     \"Participation\":\"participation\",\n",
    "     \"Composite\":\"composite\",\n",
    "     \"Year\":\"year\"    \n",
    "}\n",
    "new_columns_dict2 = {\n",
    "     \"State\":\"state\",\n",
    "     \"Participation\":\"participation\",\n",
    "     \"Composite\":\"composite\",\n",
    "     \"Year\":\"year\",\n",
    "     \"English\":\"english\",\n",
    "     \"Math\":\"math\",\n",
    "     \"Science\":\"science\",\n",
    "     \"Reading\":\"reading\"\n",
    "}\n",
    "\n",
    "db_act2017.rename(columns=new_columns_dict2, inplace=True)\n",
    "db_act2018.rename(columns=new_columns_dict, inplace=True)\n",
    "db_act2019.rename(columns=new_columns_dict, inplace=True)"
   ]
  },
  {
   "cell_type": "markdown",
   "metadata": {},
   "source": [
    "5. Merge dataframes that can be merged. The act_2017, act_2018, act_2019 are merged to one dataframe. I added one extra column \"year\" to 2017, 2018 and 2019 dataset before merging"
   ]
  },
  {
   "cell_type": "code",
   "execution_count": 880,
   "metadata": {},
   "outputs": [],
   "source": [
    "#merge the dataframe of 2017, 2018 and 2019\n",
    "db_act_all = pd.concat([db_act2017,db_act2018])\n",
    "db_act_all = pd.concat([db_act_all,db_act2019])"
   ]
  },
  {
   "cell_type": "markdown",
   "metadata": {},
   "source": [
    "6. As there are missing fields (English, Math, Science and Reading) in 2018 and 2019 dataset, I will drop these 4 columns from the combined db_act_all datatset"
   ]
  },
  {
   "cell_type": "code",
   "execution_count": 881,
   "metadata": {},
   "outputs": [],
   "source": [
    "db_act_all.drop(['english', 'math','science','reading'], axis=1, inplace=True)"
   ]
  },
  {
   "cell_type": "markdown",
   "metadata": {},
   "source": [
    "7. Saved the dataframe to db_act_all.csv"
   ]
  },
  {
   "cell_type": "code",
   "execution_count": 882,
   "metadata": {
    "scrolled": true
   },
   "outputs": [
    {
     "name": "stdout",
     "output_type": "stream",
     "text": [
      "db_act2017\n",
      "       state  participation  english  math  reading  science  composite  year\n",
      "0  National           0.60     20.3  20.7     21.4     21.0       21.0  2017\n",
      "1   Alabama           1.00     18.9  18.4     19.7     19.4       19.2  2017\n",
      "2    Alaska           0.65     18.7  19.8     20.4     19.9       19.8  2017\n",
      "3   Arizona           0.62     18.6  19.8     20.1     19.8       19.7  2017\n",
      "4  Arkansas           1.00     18.9  19.0     19.7     19.5       19.4  2017\n",
      "db_act2018\n",
      "         state  participation  composite  year\n",
      "0     Alabama           1.00       19.1  2018\n",
      "1      Alaska           0.33       20.8  2018\n",
      "2     Arizona           0.66       19.2  2018\n",
      "3    Arkansas           1.00       19.4  2018\n",
      "4  California           0.27       22.7  2018\n",
      "db_act2019\n",
      "         state  participation  composite  year\n",
      "0     Alabama           1.00       18.9  2019\n",
      "1      Alaska           0.38       20.1  2019\n",
      "2     Arizona           0.73       19.0  2019\n",
      "3    Arkansas           1.00       19.3  2019\n",
      "4  California           0.23       22.6  2019\n",
      "db_act_all\n",
      "       state  participation  composite  year\n",
      "0  National           0.60       21.0  2017\n",
      "1   Alabama           1.00       19.2  2017\n",
      "2    Alaska           0.65       19.8  2017\n",
      "3   Arizona           0.62       19.7  2017\n",
      "4  Arkansas           1.00       19.4  2017\n"
     ]
    }
   ],
   "source": [
    "#saved the dataframe to csv\n",
    "db_act_all.to_csv('db_act_all.csv', index=False)\n",
    "print(\"db_act2017\\n\", db_act2017.head())\n",
    "print(\"db_act2018\\n\", db_act2018.head())\n",
    "print(\"db_act2019\\n\", db_act2019.head())\n",
    "print(\"db_act_all\\n\", db_act_all.head())"
   ]
  },
  {
   "cell_type": "markdown",
   "metadata": {},
   "source": [
    "**I am importing the SAT pariticipation and score for all states sat_2017.csv, sat_2018.csv, sat_2019.csv**"
   ]
  },
  {
   "cell_type": "markdown",
   "metadata": {},
   "source": [
    "**Data Cleaning Process**\n",
    "\n",
    "1. Check for missing values I use the .info() to show if there are missing values. There are no missing info based on the result as the count tallies with all the rows in the fields."
   ]
  },
  {
   "cell_type": "code",
   "execution_count": 883,
   "metadata": {},
   "outputs": [
    {
     "name": "stdout",
     "output_type": "stream",
     "text": [
      "<class 'pandas.core.frame.DataFrame'>\n",
      "RangeIndex: 51 entries, 0 to 50\n",
      "Data columns (total 6 columns):\n",
      " #   Column                              Non-Null Count  Dtype \n",
      "---  ------                              --------------  ----- \n",
      " 0   State                               51 non-null     object\n",
      " 1   Participation                       51 non-null     object\n",
      " 2   Evidence-Based Reading and Writing  51 non-null     int64 \n",
      " 3   Math                                51 non-null     int64 \n",
      " 4   Total                               51 non-null     int64 \n",
      " 5   year                                51 non-null     object\n",
      "dtypes: int64(3), object(3)\n",
      "memory usage: 2.5+ KB\n",
      "db_sat2017\n",
      " None\n",
      "<class 'pandas.core.frame.DataFrame'>\n",
      "RangeIndex: 51 entries, 0 to 50\n",
      "Data columns (total 6 columns):\n",
      " #   Column                              Non-Null Count  Dtype \n",
      "---  ------                              --------------  ----- \n",
      " 0   State                               51 non-null     object\n",
      " 1   Participation                       51 non-null     object\n",
      " 2   Evidence-Based Reading and Writing  51 non-null     int64 \n",
      " 3   Math                                51 non-null     int64 \n",
      " 4   Total                               51 non-null     int64 \n",
      " 5   year                                51 non-null     object\n",
      "dtypes: int64(3), object(3)\n",
      "memory usage: 2.5+ KB\n",
      "db_sat2018\n",
      " None\n",
      "<class 'pandas.core.frame.DataFrame'>\n",
      "RangeIndex: 53 entries, 0 to 52\n",
      "Data columns (total 6 columns):\n",
      " #   Column              Non-Null Count  Dtype \n",
      "---  ------              --------------  ----- \n",
      " 0   State               53 non-null     object\n",
      " 1   Participation Rate  53 non-null     object\n",
      " 2   EBRW                53 non-null     int64 \n",
      " 3   Math                53 non-null     int64 \n",
      " 4   Total               53 non-null     int64 \n",
      " 5   year                53 non-null     object\n",
      "dtypes: int64(3), object(3)\n",
      "memory usage: 2.6+ KB\n",
      "db_sat2019\n",
      " None\n"
     ]
    }
   ],
   "source": [
    "db_sat2017 = pd.read_csv(\n",
    "    'data/sat_2017.csv',\n",
    "    sep=','\n",
    ")\n",
    "\n",
    "db_sat2017['year']=\"2017\"\n",
    "db_sat2018 = pd.read_csv(\n",
    "    'data/sat_2018.csv',\n",
    "    sep=','\n",
    ")\n",
    "db_sat2018['year']=\"2018\"\n",
    "db_sat2019 = pd.read_csv(\n",
    "    'data/sat_2019.csv',\n",
    "    sep=','\n",
    ")\n",
    "db_sat2019['year']=\"2019\"\n",
    "\n",
    "#Check for missing values\n",
    "print(\"db_sat2017\\n\",db_sat2017.info())\n",
    "print(\"db_sat2018\\n\",db_sat2018.info())\n",
    "print(\"db_sat2019\\n\",db_sat2019.info())\n"
   ]
  },
  {
   "cell_type": "markdown",
   "metadata": {},
   "source": [
    "2. Check for any obvious issues with the observations (keep in mind the minimum & maximum possible values for each test/subtest) - I use the '.describe()' to check for any obvious issues such as max and min values. No abnormal values are detected.\n",
    "- Based on dataset sat 2019, 2 rows \"Puerto Rico\" and \"Virgin Islands\" have invalid data. I removed the rows. \n",
    "- In 2017, the min Max score is 52 for Maryland. This is abnoramlly low. The min SAT Math Score is 200. I fix it by correcting the value to 524."
   ]
  },
  {
   "cell_type": "code",
   "execution_count": 884,
   "metadata": {},
   "outputs": [
    {
     "name": "stdout",
     "output_type": "stream",
     "text": [
      "db_sat2017\n",
      "        Evidence-Based Reading and Writing        Math        Total\n",
      "count                           51.000000   51.000000    51.000000\n",
      "mean                           569.117647  547.627451  1126.098039\n",
      "std                             45.666901   84.909119    92.494812\n",
      "min                            482.000000   52.000000   950.000000\n",
      "25%                            533.500000  522.000000  1055.500000\n",
      "50%                            559.000000  548.000000  1107.000000\n",
      "75%                            613.000000  599.000000  1212.000000\n",
      "max                            644.000000  651.000000  1295.000000\n",
      "db_sat2018\n",
      "        Evidence-Based Reading and Writing        Math        Total\n",
      "count                           51.000000   51.000000    51.000000\n",
      "mean                           563.686275  556.235294  1120.019608\n",
      "std                             47.502627   47.772623    94.155083\n",
      "min                            480.000000  480.000000   977.000000\n",
      "25%                            534.500000  522.500000  1057.500000\n",
      "50%                            552.000000  544.000000  1098.000000\n",
      "75%                            610.500000  593.500000  1204.000000\n",
      "max                            643.000000  655.000000  1298.000000\n",
      "db_sat2019\n",
      "              EBRW        Math        Total\n",
      "count   53.000000   53.000000    53.000000\n",
      "mean   558.000000  548.471698  1106.528302\n",
      "std     47.554422   53.785044   100.994784\n",
      "min    483.000000  445.000000   935.000000\n",
      "25%    518.000000  506.000000  1024.000000\n",
      "50%    550.000000  545.000000  1097.000000\n",
      "75%    610.000000  596.000000  1200.000000\n",
      "max    636.000000  648.000000  1284.000000\n"
     ]
    }
   ],
   "source": [
    "#Check for invalid values\n",
    "print(\"db_sat2017\\n\",db_sat2017.describe())\n",
    "print(\"db_sat2018\\n\",db_sat2018.describe())\n",
    "print(\"db_sat2019\\n\",db_sat2019.describe())\n",
    "\n",
    "#Remove invalid values\n",
    "re = '^(?!Puerto Rico$).*'\n",
    "db_sat2019=db_sat2019[db_sat2019['State'].str.contains(re)]\n",
    "re1 = '^(?!Virgin Islands$).*'\n",
    "db_sat2019=db_sat2019[db_sat2019['State'].str.contains(re1)]\n"
   ]
  },
  {
   "cell_type": "markdown",
   "metadata": {},
   "source": [
    "3. Fix any incorrect data types found.\n",
    "- Based on the '.info()', the 'Participation' fields is of type object and expressed as %. I removed the % from the object and converted to float for all 2017, 2018 and 2019 dataset. \n",
    "- There is an exceptional low value in the dataset for Math for 2017 dataset. It is traced to a row for state 'Maryland', the min value for Math score is 200. I fixed the error by correcting it to 524"
   ]
  },
  {
   "cell_type": "code",
   "execution_count": 885,
   "metadata": {},
   "outputs": [],
   "source": [
    "# Function to help us rectify errors in SAT dataset\n",
    "db_sat2017.drop((db_sat2017[db_sat2017['State'].str.contains('Maryland')]).index, inplace=True)\n",
    "new_row = {'State':'Maryland', 'Participation':'69%', 'Evidence-Based Reading and Writing':536, 'Math':524,'Total':1060,'year':'2017'}\n",
    "#append row to the dataframe\n",
    "db_sat2017 = db_sat2017.append(new_row, ignore_index=True)\n",
    "\n",
    "#Fix any incorrect data types\n",
    "db_sat2017[\"Participation\"]=db_sat2017[\"Participation\"].map(lambda x :clean_data(x))\n",
    "db_sat2017[\"Participation\"] = db_sat2017[\"Participation\"].astype(str).astype(float)\n",
    "db_sat2018[\"Participation\"]=db_sat2018[\"Participation\"].map(lambda x :clean_data(x))\n",
    "db_sat2018[\"Participation\"] = db_sat2018[\"Participation\"].astype(str).astype(float)\n",
    "db_sat2019[\"Participation Rate\"]=db_sat2019[\"Participation Rate\"].map(lambda x :clean_data(x))\n",
    "db_sat2019[\"Participation Rate\"] = db_sat2019[\"Participation Rate\"].astype(str).astype(float)"
   ]
  },
  {
   "cell_type": "markdown",
   "metadata": {},
   "source": [
    "4. Rename the columns- The columns are renamed to lowercase"
   ]
  },
  {
   "cell_type": "code",
   "execution_count": 886,
   "metadata": {},
   "outputs": [],
   "source": [
    "#Rename the columns- The columns are renamed to lowercase\n",
    "new_columns_dict = {\n",
    "    'Participation Rate': 'participation',\n",
    "    'State':'state',\n",
    "    'EBRW':'ebrw',\n",
    "    'Math':'math',\n",
    "    'Total':'total'\n",
    "}\n",
    "\n",
    "new_columns_dict2018 = {\n",
    "    'Participation': 'participation',\n",
    "    'State':'state',\n",
    "    'Evidence-Based Reading and Writing':'ebrw',\n",
    "    'Math':'math',\n",
    "    'Total':'total'\n",
    "}\n",
    "\n",
    "new_columns_dict2017 = {\n",
    "    'Participation': 'participation',\n",
    "    'State':'state',\n",
    "    'Evidence-Based Reading and Writing':'ebrw',\n",
    "    'Math':'math',\n",
    "    'Total':'total'\n",
    "}\n",
    "db_sat2018.rename(columns=new_columns_dict2018, inplace=True)\n",
    "db_sat2017.rename(columns=new_columns_dict2017, inplace=True)\n",
    "db_sat2019.rename(columns=new_columns_dict, inplace=True)"
   ]
  },
  {
   "cell_type": "markdown",
   "metadata": {},
   "source": [
    "5. Drop unnecessary rows - There is no duplicate row.\n",
    "6. Merge dataframes that can be merged. The sat_2017, sat_2018, sat_2019 are merged to one dataframe. I added one extra column \"year\" to 2017, 2018 and 2019 dataset before merging"
   ]
  },
  {
   "cell_type": "code",
   "execution_count": 887,
   "metadata": {},
   "outputs": [],
   "source": [
    "#Merge 2017, 2018 and 2019 dataset into one dataframe\n",
    "db_sat_all = pd.concat([db_sat2017,db_sat2018])\n",
    "db_sat_all = pd.concat([db_sat_all,db_sat2019])"
   ]
  },
  {
   "cell_type": "markdown",
   "metadata": {},
   "source": [
    "7.  Display the dataset"
   ]
  },
  {
   "cell_type": "code",
   "execution_count": 888,
   "metadata": {},
   "outputs": [
    {
     "name": "stdout",
     "output_type": "stream",
     "text": [
      "db_sat_all\n",
      "         state  participation  ebrw  math  total  year\n",
      "0     Alabama           0.05   593   572   1165  2017\n",
      "1      Alaska           0.38   547   533   1080  2017\n",
      "2     Arizona           0.30   563   553   1116  2017\n",
      "3    Arkansas           0.03   614   594   1208  2017\n",
      "4  California           0.53   531   524   1055  2017\n",
      "db_sat2017\n",
      "         state  participation  ebrw  math  total  year\n",
      "0     Alabama           0.05   593   572   1165  2017\n",
      "1      Alaska           0.38   547   533   1080  2017\n",
      "2     Arizona           0.30   563   553   1116  2017\n",
      "3    Arkansas           0.03   614   594   1208  2017\n",
      "4  California           0.53   531   524   1055  2017\n",
      "db_sat2018\n",
      "         state  participation  ebrw  math  total  year\n",
      "0     Alabama           0.06   595   571   1166  2018\n",
      "1      Alaska           0.43   562   544   1106  2018\n",
      "2     Arizona           0.29   577   572   1149  2018\n",
      "3    Arkansas           0.05   592   576   1169  2018\n",
      "4  California           0.60   540   536   1076  2018\n",
      "db_sat2019\n",
      "         state  participation  ebrw  math  total  year\n",
      "0     Alabama           0.07   583   560   1143  2019\n",
      "1      Alaska           0.41   556   541   1097  2019\n",
      "2     Arizona           0.31   569   565   1134  2019\n",
      "3    Arkansas           0.06   582   559   1141  2019\n",
      "4  California           0.63   534   531   1065  2019\n"
     ]
    }
   ],
   "source": [
    "print(\"db_sat_all\\n\", db_sat_all.head())\n",
    "print(\"db_sat2017\\n\", db_sat2017.head())\n",
    "print(\"db_sat2018\\n\", db_sat2018.head())\n",
    "print(\"db_sat2019\\n\", db_sat2019.head())"
   ]
  },
  {
   "cell_type": "markdown",
   "metadata": {},
   "source": [
    "8. Saved the dataframe to db_sat_all.csv"
   ]
  },
  {
   "cell_type": "code",
   "execution_count": 889,
   "metadata": {},
   "outputs": [],
   "source": [
    "#saved the dataframe to csv\n",
    "db_sat_all.to_csv('db_sat_all.csv', index=False)"
   ]
  },
  {
   "cell_type": "markdown",
   "metadata": {},
   "source": [
    "**I merge the SAT datatset and ACT dataset for subsequent visualisation purpose**"
   ]
  },
  {
   "cell_type": "code",
   "execution_count": 890,
   "metadata": {},
   "outputs": [],
   "source": [
    "db_satact_all=pd.merge(db_sat_all, db_act_all, on=['state'])\n",
    "new_columns_db_satact_all = {\n",
    "    \"state\":\"state\",\n",
    "    \"participation_x\":\"participation_sat\",\n",
    "    \"ebrw\":\"ebrw_sat\",\n",
    "    \"math_x\":\"math_sat\",\n",
    "    \"total\":\"total_sat\",\n",
    "    \"year_x\":\"year_sat\",\n",
    "    \"participation_y\":\"participation_act\",\n",
    "    \"year_y\":\"year_act\",\n",
    "    \"Composite\":\"composite_act\",\n",
    "    \"english\":\"english_act\",\n",
    "    \"math_y\":\"math_act\",\n",
    "    \"reading\":\"reading_act\",\n",
    "    \"science\":\"science_act\"}\n",
    "    \n",
    "db_satact_all.rename(columns=new_columns_db_satact_all, inplace=True)"
   ]
  },
  {
   "cell_type": "markdown",
   "metadata": {},
   "source": [
    "- Display the merged db_satact_all"
   ]
  },
  {
   "cell_type": "code",
   "execution_count": 891,
   "metadata": {},
   "outputs": [
    {
     "data": {
      "text/html": [
       "<div>\n",
       "<style scoped>\n",
       "    .dataframe tbody tr th:only-of-type {\n",
       "        vertical-align: middle;\n",
       "    }\n",
       "\n",
       "    .dataframe tbody tr th {\n",
       "        vertical-align: top;\n",
       "    }\n",
       "\n",
       "    .dataframe thead th {\n",
       "        text-align: right;\n",
       "    }\n",
       "</style>\n",
       "<table border=\"1\" class=\"dataframe\">\n",
       "  <thead>\n",
       "    <tr style=\"text-align: right;\">\n",
       "      <th></th>\n",
       "      <th>state</th>\n",
       "      <th>participation_sat</th>\n",
       "      <th>ebrw_sat</th>\n",
       "      <th>math</th>\n",
       "      <th>total_sat</th>\n",
       "      <th>year_sat</th>\n",
       "      <th>participation_act</th>\n",
       "      <th>composite</th>\n",
       "      <th>year_act</th>\n",
       "    </tr>\n",
       "  </thead>\n",
       "  <tbody>\n",
       "    <tr>\n",
       "      <th>0</th>\n",
       "      <td>Alabama</td>\n",
       "      <td>0.05</td>\n",
       "      <td>593</td>\n",
       "      <td>572</td>\n",
       "      <td>1165</td>\n",
       "      <td>2017</td>\n",
       "      <td>1.0</td>\n",
       "      <td>19.2</td>\n",
       "      <td>2017</td>\n",
       "    </tr>\n",
       "    <tr>\n",
       "      <th>1</th>\n",
       "      <td>Alabama</td>\n",
       "      <td>0.05</td>\n",
       "      <td>593</td>\n",
       "      <td>572</td>\n",
       "      <td>1165</td>\n",
       "      <td>2017</td>\n",
       "      <td>1.0</td>\n",
       "      <td>19.1</td>\n",
       "      <td>2018</td>\n",
       "    </tr>\n",
       "    <tr>\n",
       "      <th>2</th>\n",
       "      <td>Alabama</td>\n",
       "      <td>0.05</td>\n",
       "      <td>593</td>\n",
       "      <td>572</td>\n",
       "      <td>1165</td>\n",
       "      <td>2017</td>\n",
       "      <td>1.0</td>\n",
       "      <td>18.9</td>\n",
       "      <td>2019</td>\n",
       "    </tr>\n",
       "    <tr>\n",
       "      <th>3</th>\n",
       "      <td>Alabama</td>\n",
       "      <td>0.06</td>\n",
       "      <td>595</td>\n",
       "      <td>571</td>\n",
       "      <td>1166</td>\n",
       "      <td>2018</td>\n",
       "      <td>1.0</td>\n",
       "      <td>19.2</td>\n",
       "      <td>2017</td>\n",
       "    </tr>\n",
       "    <tr>\n",
       "      <th>4</th>\n",
       "      <td>Alabama</td>\n",
       "      <td>0.06</td>\n",
       "      <td>595</td>\n",
       "      <td>571</td>\n",
       "      <td>1166</td>\n",
       "      <td>2018</td>\n",
       "      <td>1.0</td>\n",
       "      <td>19.1</td>\n",
       "      <td>2018</td>\n",
       "    </tr>\n",
       "  </tbody>\n",
       "</table>\n",
       "</div>"
      ],
      "text/plain": [
       "     state  participation_sat  ebrw_sat  math  total_sat year_sat  \\\n",
       "0  Alabama               0.05       593   572       1165     2017   \n",
       "1  Alabama               0.05       593   572       1165     2017   \n",
       "2  Alabama               0.05       593   572       1165     2017   \n",
       "3  Alabama               0.06       595   571       1166     2018   \n",
       "4  Alabama               0.06       595   571       1166     2018   \n",
       "\n",
       "   participation_act  composite year_act  \n",
       "0                1.0       19.2     2017  \n",
       "1                1.0       19.1     2018  \n",
       "2                1.0       18.9     2019  \n",
       "3                1.0       19.2     2017  \n",
       "4                1.0       19.1     2018  "
      ]
     },
     "execution_count": 891,
     "metadata": {},
     "output_type": "execute_result"
    }
   ],
   "source": [
    "db_satact_all.head()"
   ]
  },
  {
   "cell_type": "markdown",
   "metadata": {},
   "source": [
    "- I use the info() to get the datatypes in merged SAT and ACT dataframe"
   ]
  },
  {
   "cell_type": "code",
   "execution_count": 892,
   "metadata": {},
   "outputs": [
    {
     "name": "stdout",
     "output_type": "stream",
     "text": [
      "<class 'pandas.core.frame.DataFrame'>\n",
      "Int64Index: 462 entries, 0 to 461\n",
      "Data columns (total 9 columns):\n",
      " #   Column             Non-Null Count  Dtype  \n",
      "---  ------             --------------  -----  \n",
      " 0   state              462 non-null    object \n",
      " 1   participation_sat  462 non-null    float64\n",
      " 2   ebrw_sat           462 non-null    int64  \n",
      " 3   math               462 non-null    int64  \n",
      " 4   total_sat          462 non-null    int64  \n",
      " 5   year_sat           462 non-null    object \n",
      " 6   participation_act  462 non-null    float64\n",
      " 7   composite          462 non-null    float64\n",
      " 8   year_act           462 non-null    object \n",
      "dtypes: float64(3), int64(3), object(3)\n",
      "memory usage: 36.1+ KB\n"
     ]
    }
   ],
   "source": [
    "db_satact_all.info()"
   ]
  },
  {
   "cell_type": "markdown",
   "metadata": {},
   "source": []
  },
  {
   "cell_type": "markdown",
   "metadata": {},
   "source": [
    "### Data Dictionary\n",
    "\n",
    "Now that we've fixed our data, and given it appropriate names, let's create a [data dictionary](http://library.ucmerced.edu/node/10249). \n",
    "\n",
    "A data dictionary provides a quick overview of features/variables/columns, alongside data types and descriptions. The more descriptive you can be, the more useful this document is.\n",
    "\n",
    "Example of a Fictional Data Dictionary Entry: \n",
    "\n",
    "|Feature|Type|Dataset|Description|\n",
    "|---|---|---|---|\n",
    "|**county_pop**|*integer*|2010 census|The population of the county (units in thousands, where 2.5 represents 2500 people).| \n",
    "|**per_poverty**|*float*|2010 census|The percent of the county over the age of 18 living below the 200% of official US poverty rate (units percent to two decimal places 98.10 means 98.1%)|\n",
    "\n",
    "[Here's a quick link to a short guide for formatting markdown in Jupyter notebooks](https://jupyter-notebook.readthedocs.io/en/stable/examples/Notebook/Working%20With%20Markdown%20Cells.html).\n",
    "\n",
    "Provided is the skeleton for formatting a markdown table, with columns headers that will help you create a data dictionary to quickly summarize your data, as well as some examples. **This would be a great thing to copy and paste into your custom README for this project.**\n",
    "\n",
    "*Note*: if you are unsure of what a feature is, check the source of the data! This can be found in the README."
   ]
  },
  {
   "cell_type": "markdown",
   "metadata": {},
   "source": [
    "**ACT Participation and Score across the states act_2017.csv, act_2018.csv, act_2019.csv**\n",
    "\n",
    "|Feature|Type|Dataset|Description|\n",
    "|---|---|---|---|\n",
    "|state|object|ACT|state in US| \n",
    "|participation|float|ACT|participation rate of ACT test|\n",
    "|english|float|ACT|English scores of ACT| \n",
    "|math|float|ACT|Math scores of ACT| \n",
    "|science|float|ACT|Science cores of ACT| \n",
    "|reading|float|ACT|Reading scores of ACT| \n",
    "|composite|float|ACT|composite scores of ACT| \n",
    "|year|object|ACT|Year| \n",
    "\n",
    "**SAT Participation and Score across the states  sat_2017.csv, sat_2018.csv, sat_2019.csv**\n",
    "\n",
    "|Feature|Type|Dataset|Description|\n",
    "|---|---|---|---|\n",
    "|state|object|SAT|state in US| \n",
    "|participation|float|SAT|participation rate of SAT test| \n",
    "|ebrw|int|SAT|Evidence-Based Reading Writing scores of SAT| \n",
    "|math|int|SAT|Math scores of SAT| \n",
    "|total|int|SAT|total scores of SAT| \n",
    "|year|object|SAT|Year| \n",
    " \n",
    "**Merged SAT and ACT Participation and Score across the states**\n",
    "\n",
    "|Feature|Type|Dataset|Description|\n",
    "|---|---|---|---|\n",
    "|state|object|ACT|state in US| \n",
    "|participation_act|float|ACT|participation rate of ACT test|\n",
    "|composite_act|float|ACT|composite scores of ACT| \n",
    "|year_act|object|ACT|Year| \n",
    "|participation_sat|float|SAT|participation rate of SAT test| \n",
    "|ebrw_sat|int|SAT|Evidence-Based Reading Writing scores of SAT| \n",
    "|math_sat|int|SAT|Math scores of SAT| \n",
    "|total_sat|int|SAT|total scores of SAT| \n",
    "|year_sat|object|SAT|Year| \n"
   ]
  },
  {
   "cell_type": "markdown",
   "metadata": {},
   "source": []
  },
  {
   "cell_type": "markdown",
   "metadata": {},
   "source": [
    "## Exploratory Data Analysis\n",
    "\n",
    "Complete the following steps to explore your data. You are welcome to do more EDA than the steps outlined here as you feel necessary:\n",
    "1. Summary Statistics.\n",
    "2. Use a **dictionary comprehension** to apply the standard deviation function you create in part 1 to each numeric column in the dataframe.  **No loops**.\n",
    "    - Assign the output to variable `sd` as a dictionary where: \n",
    "        - Each column name is now a key \n",
    "        - That standard deviation of the column is the value \n",
    "        - *Example Output :* `{'ACT_Math': 120, 'ACT_Reading': 120, ...}`\n",
    "3. Investigate trends in the data.\n",
    "    - Using sorting and/or masking (along with the `.head()` method to avoid printing our entire dataframe), consider questions relevant to your problem statement. Some examples are provided below (but feel free to change these questions for your specific problem):\n",
    "        - Which states have the highest and lowest participation rates for the 2017, 2019, or 2019 SAT and ACT?\n",
    "        - Which states have the highest and lowest mean total/composite scores for the 2017, 2019, or 2019 SAT and ACT?\n",
    "        - Do any states with 100% participation on a given test have a rate change year-to-year?\n",
    "        - Do any states show have >50% participation on *both* tests each year?\n",
    "        - Which colleges have the highest median SAT and ACT scores for admittance?\n",
    "        - Which California school districts have the highest and lowest mean test scores?\n",
    "    - **You should comment on your findings at each step in a markdown cell below your code block**. Make sure you include at least one example of sorting your dataframe by a column, and one example of using boolean filtering (i.e., masking) to select a subset of the dataframe.\n"
   ]
  },
  {
   "cell_type": "markdown",
   "metadata": {},
   "source": [
    "## Summary Statistics\n",
    "1. Using \"info()\" to display the data type of the dataset for db_act_all"
   ]
  },
  {
   "cell_type": "code",
   "execution_count": 893,
   "metadata": {},
   "outputs": [
    {
     "name": "stdout",
     "output_type": "stream",
     "text": [
      "<class 'pandas.core.frame.DataFrame'>\n",
      "Int64Index: 156 entries, 0 to 51\n",
      "Data columns (total 4 columns):\n",
      " #   Column         Non-Null Count  Dtype  \n",
      "---  ------         --------------  -----  \n",
      " 0   state          156 non-null    object \n",
      " 1   participation  156 non-null    float64\n",
      " 2   composite      156 non-null    float64\n",
      " 3   year           156 non-null    object \n",
      "dtypes: float64(2), object(2)\n",
      "memory usage: 6.1+ KB\n",
      "None\n",
      "\n",
      "A summary of the dataset is shown below\n"
     ]
    }
   ],
   "source": [
    "print(db_act_all.info())\n",
    "print(\"\")\n",
    "print(\"A summary of the dataset is shown below\")\n"
   ]
  },
  {
   "cell_type": "markdown",
   "metadata": {},
   "source": [
    "2. I use \"describe() to display the summary of the dataset\" of db_act_all"
   ]
  },
  {
   "cell_type": "code",
   "execution_count": 894,
   "metadata": {},
   "outputs": [
    {
     "name": "stdout",
     "output_type": "stream",
     "text": [
      "A descriptive summary of the dataset\n",
      "       participation   composite\n",
      "count     156.000000  156.000000\n",
      "mean        0.614551   21.501282\n",
      "std         0.334412    2.087010\n",
      "min         0.060000   17.700000\n",
      "25%         0.290000   19.800000\n",
      "50%         0.655000   21.250000\n",
      "75%         1.000000   23.625000\n",
      "max         1.000000   25.600000\n"
     ]
    }
   ],
   "source": [
    "print(\"A descriptive summary of the dataset\")\n",
    "print(db_act_all.describe())"
   ]
  },
  {
   "cell_type": "markdown",
   "metadata": {},
   "source": [
    "3. Using \"info()\" to display the data type of the dataset for db_sat_all"
   ]
  },
  {
   "cell_type": "code",
   "execution_count": 895,
   "metadata": {},
   "outputs": [
    {
     "name": "stdout",
     "output_type": "stream",
     "text": [
      "<class 'pandas.core.frame.DataFrame'>\n",
      "Int64Index: 153 entries, 0 to 52\n",
      "Data columns (total 6 columns):\n",
      " #   Column         Non-Null Count  Dtype  \n",
      "---  ------         --------------  -----  \n",
      " 0   state          153 non-null    object \n",
      " 1   participation  153 non-null    float64\n",
      " 2   ebrw           153 non-null    int64  \n",
      " 3   math           153 non-null    int64  \n",
      " 4   total          153 non-null    int64  \n",
      " 5   year           153 non-null    object \n",
      "dtypes: float64(1), int64(3), object(2)\n",
      "memory usage: 8.4+ KB\n",
      "None\n",
      "\n"
     ]
    }
   ],
   "source": [
    "print(db_sat_all.info())\n",
    "print(\"\")\n"
   ]
  },
  {
   "cell_type": "markdown",
   "metadata": {},
   "source": [
    "4. I use \"describe() to display the summary of the dataset\" of db_sat_all"
   ]
  },
  {
   "cell_type": "code",
   "execution_count": 896,
   "metadata": {},
   "outputs": [
    {
     "name": "stdout",
     "output_type": "stream",
     "text": [
      "A descriptive summary of the dataset\n",
      "       participation        ebrw        math        total\n",
      "count     153.000000  153.000000  153.000000   153.000000\n",
      "mean        0.448693  564.535948  555.104575  1119.732026\n",
      "std         0.370944   46.301362   48.485370    94.162654\n",
      "min         0.020000  480.000000  460.000000   943.000000\n",
      "25%         0.040000  531.000000  521.000000  1053.000000\n",
      "50%         0.500000  554.000000  546.000000  1099.000000\n",
      "75%         0.760000  614.000000  596.000000  1210.000000\n",
      "max         1.000000  644.000000  655.000000  1298.000000\n"
     ]
    }
   ],
   "source": [
    "print(\"A descriptive summary of the dataset\")\n",
    "print(db_sat_all.describe())"
   ]
  },
  {
   "cell_type": "markdown",
   "metadata": {},
   "source": [
    "2. Use a **dictionary comprehension** to apply the standard deviation function you create in part 1 to each numeric column in the dataframe.  **No loops**.\n",
    "    - Assign the output to variable `sd` as a dictionary where: \n",
    "        - Each column name is now a key \n",
    "        - That standard deviation of the column is the value \n",
    "        - *Example Output :* `{'ACT_Math': 120, 'ACT_Reading': 120, ...}`\n"
   ]
  },
  {
   "cell_type": "markdown",
   "metadata": {},
   "source": [
    "- I use dictionary comprehension to apply the standard deviation to each numeric column in the dataframe db_sat_all and db_act_all"
   ]
  },
  {
   "cell_type": "code",
   "execution_count": 897,
   "metadata": {},
   "outputs": [
    {
     "name": "stdout",
     "output_type": "stream",
     "text": [
      "SAT stddev \n",
      " {'participation': 0.3697299717899723, 'ebrw': 46.14980241905189, 'math': 48.326661256683224, 'total': 93.8544281331918}\n",
      "ACT stddev\n",
      " {'participation': 0.33333847998985355, 'composite': 2.080310232642433}\n"
     ]
    }
   ],
   "source": [
    "test_sat_num=db_sat_all.drop(['state','year'],axis=1)\n",
    "sd={col.name:calculate_std(col) for col in [test_sat_num[i] for i in test_sat_num.columns if (test_sat_num[i].dtype=='float64') or (test_sat_num[i].dtype=='int64')]}\n",
    "print(\"SAT stddev \\n\",sd)\n",
    "\n",
    "test_act_num=db_act_all.drop(['state','year'],axis=1)\n",
    "sd={col.name:calculate_std(col) for col in [test_act_num[i] for i in test_act_num.columns if (test_act_num[i].dtype=='float64') or (test_act_num[i].dtype=='int64')]}\n",
    "print(\"ACT stddev\\n\",sd)\n"
   ]
  },
  {
   "cell_type": "markdown",
   "metadata": {},
   "source": [
    "- My manually calculated standard deivation matches up with the output from pandas describe. "
   ]
  },
  {
   "cell_type": "markdown",
   "metadata": {},
   "source": [
    "3. Investigate trends in the data.\n",
    "    - Using sorting and/or masking (along with the `.head()` method to avoid printing our entire dataframe), consider questions relevant to your problem statement. Some examples are provided below (but feel free to change these questions for your specific problem):\n",
    "        - Which states have the highest and lowest participation rates for the 2017, 2019, or 2019 SAT and ACT?\n",
    "        - Which states have the highest and lowest mean total/composite scores for the 2017, 2019, or 2019 SAT and ACT?\n",
    "        - Do any states with 100% participation on a given test have a rate change year-to-year?\n",
    "        - Do any states show have >50% participation on *both* tests each year?\n",
    "        \n",
    "    - **You should comment on your findings at each step in a markdown cell below your code block**. Make sure you include at least one example of sorting your dataframe by a column, and one example of using boolean filtering (i.e., masking) to select a subset of the dataframe\n",
    "    \n"
   ]
  },
  {
   "cell_type": "markdown",
   "metadata": {},
   "source": [
    "- Investigate trends in the data. I filter the db_sat_all data by year. Then I sort the list based on participation. I use the function head() and tail() to list down the list showing the lowest and highest participation in 2017-2019"
   ]
  },
  {
   "cell_type": "code",
   "execution_count": 898,
   "metadata": {},
   "outputs": [],
   "source": [
    "db_sat_all_2017=db_sat_all[(db_sat_all['year']==\"2017\")]\n",
    "db_sat_all_2018=db_sat_all[(db_sat_all['year']==\"2018\")]\n",
    "db_sat_all_2019=db_sat_all[(db_sat_all['year']==\"2019\")]"
   ]
  },
  {
   "cell_type": "markdown",
   "metadata": {},
   "source": [
    "- I use the head() and tail() to list down the list based on participation so that I can get the SAT lowest and highest participation in 2017"
   ]
  },
  {
   "cell_type": "code",
   "execution_count": 899,
   "metadata": {},
   "outputs": [
    {
     "name": "stdout",
     "output_type": "stream",
     "text": [
      "States with SAT lowest participation in 2017\n",
      "             state  participation  ebrw  math  total  year\n",
      "15          Iowa           0.02   641   635   1275  2017\n",
      "33  North Dakota           0.02   635   621   1256  2017\n",
      "23   Mississippi           0.02   634   607   1242  2017\n",
      "26      Nebraska           0.03   629   625   1253  2017\n",
      "48     Wisconsin           0.03   642   649   1291  2017\n",
      "States with SAT highest participation in 2017\n",
      "                     state  participation  ebrw  math  total  year\n",
      "28         New Hampshire           0.96   532   520   1052  2017\n",
      "6            Connecticut           1.00   530   512   1041  2017\n",
      "7               Delaware           1.00   503   492    996  2017\n",
      "8   District of Columbia           1.00   482   468    950  2017\n",
      "21              Michigan           1.00   509   495   1005  2017\n"
     ]
    }
   ],
   "source": [
    "sorted_2017=db_sat_all_2017.sort_values(by='participation')\n",
    "print(\"States with SAT lowest participation in 2017\\n \", sorted_2017.head())\n",
    "print(\"States with SAT highest participation in 2017\\n \", sorted_2017.tail())\n"
   ]
  },
  {
   "cell_type": "markdown",
   "metadata": {},
   "source": [
    "- I use the head() and tail() to list down the list based on participation so that I can get the SAT lowest and highest participation in 2018"
   ]
  },
  {
   "cell_type": "code",
   "execution_count": 900,
   "metadata": {},
   "outputs": [
    {
     "name": "stdout",
     "output_type": "stream",
     "text": [
      "States with SAT lowest participation in 2018\n",
      "            state  participation  ebrw  math  total  year\n",
      "34  North Dakota           0.02   640   643   1283  2018\n",
      "50       Wyoming           0.03   633   625   1257  2018\n",
      "41  South Dakota           0.03   622   618   1240  2018\n",
      "27      Nebraska           0.03   629   623   1252  2018\n",
      "49     Wisconsin           0.03   641   653   1294  2018\n",
      "States with SAT highest participation in 2018\n",
      "           state  participation  ebrw  math  total  year\n",
      "5      Colorado            1.0   519   506   1025  2018\n",
      "6   Connecticut            1.0   535   519   1053  2018\n",
      "7      Delaware            1.0   505   492    998  2018\n",
      "22     Michigan            1.0   511   499   1011  2018\n",
      "12        Idaho            1.0   508   493   1001  2018\n"
     ]
    }
   ],
   "source": [
    "sorted_2018=db_sat_all_2018.sort_values(by='participation')\n",
    "print(\"States with SAT lowest participation in 2018\\n\", sorted_2018.head())\n",
    "print(\"States with SAT highest participation in 2018\\n\", sorted_2018.tail())"
   ]
  },
  {
   "cell_type": "markdown",
   "metadata": {},
   "source": [
    "- I use the head() and tail() to list down the list based on participation so that I can get the SAT lowest and highest participation in 2019"
   ]
  },
  {
   "cell_type": "code",
   "execution_count": 901,
   "metadata": {},
   "outputs": [
    {
     "name": "stdout",
     "output_type": "stream",
     "text": [
      "States with SAT lowest participation in 2019\n",
      "             state  participation  ebrw  math  total  year\n",
      "34  North Dakota           0.02   627   636   1263  2019\n",
      "52       Wyoming           0.03   623   615   1238  2019\n",
      "42  South Dakota           0.03   633   635   1268  2019\n",
      "27      Nebraska           0.03   628   631   1260  2019\n",
      "51     Wisconsin           0.03   635   648   1283  2019\n",
      "States with SAT highest participation in 2019\n",
      "           state  participation  ebrw  math  total  year\n",
      "6   Connecticut            1.0   529   516   1046  2019\n",
      "7      Delaware            1.0   499   486    985  2019\n",
      "22     Michigan            1.0   507   496   1003  2019\n",
      "13     Illinois            1.0   509   504   1013  2019\n",
      "12        Idaho            1.0   505   488    993  2019\n"
     ]
    }
   ],
   "source": [
    "sorted_2019=db_sat_all_2019.sort_values(by='participation')\n",
    "print(\"States with SAT lowest participation in 2019\\n \", sorted_2019.head())\n",
    "print(\"States with SAT highest participation in 2019\\n\", sorted_2019.tail())"
   ]
  },
  {
   "cell_type": "markdown",
   "metadata": {},
   "source": [
    "## Summary on SAT participation rate from Year 2017 to 2019\n",
    "- States with lowest SAT participation rate\n",
    "    - North Dakota, Mississippi and Iowa has the lowest SAT participation rate in 2017\n",
    "    - North Dakota has the lowest SAT participation rate in 2018\n",
    "    - North Dakota has the lowest SAT participation rate in 2019\n",
    "\n",
    "- States with highest SAT participation rate\n",
    "    - District of Columbia, Delaware, Michigan and Connecticut has the highest SAT participation rate in 2017\n",
    "    - Colorado,Connecticut, Delaware, Michigan,Idaho has the highest SAT participation rate in 2018\n",
    "    - Connecticut, Delaware, Michigan,Idaho,Illinois has the highest SAT participation rate in 2019\n",
    "    \n",
    "- Michigan, Connecticut, Delaware with 100% paricipation throughout 2017- 2019\n",
    "- District of Columbia, Colorado, Idaho has rate of change throughout 2017- 2019"
   ]
  },
  {
   "cell_type": "markdown",
   "metadata": {},
   "source": [
    "- I sorted the SAT 2017 list by 'total'. I used the head() and tail() to get the highest and lowest scores in 2017."
   ]
  },
  {
   "cell_type": "code",
   "execution_count": 902,
   "metadata": {},
   "outputs": [
    {
     "name": "stdout",
     "output_type": "stream",
     "text": [
      "States with SAT lowest scores in 2017\n",
      "                    state  participation  ebrw  math  total  year\n",
      "8   District of Columbia           1.00   482   468    950  2017\n",
      "7               Delaware           1.00   503   492    996  2017\n",
      "21              Michigan           1.00   509   495   1005  2017\n",
      "12                 Idaho           0.93   513   493   1005  2017\n",
      "19                 Maine           0.95   513   499   1012  2017\n",
      "States with SAT highest scores in 2017\n",
      "         state  participation  ebrw  math  total  year\n",
      "16     Kansas           0.04   632   628   1260  2017\n",
      "24   Missouri           0.03   640   631   1271  2017\n",
      "15       Iowa           0.02   641   635   1275  2017\n",
      "48  Wisconsin           0.03   642   649   1291  2017\n",
      "22  Minnesota           0.03   644   651   1295  2017\n"
     ]
    }
   ],
   "source": [
    "sorted_2017=db_sat_all_2017.sort_values(by='total')\n",
    "print(\"States with SAT lowest scores in 2017\\n\", sorted_2017.head())\n",
    "print(\"States with SAT highest scores in 2017\\n\", sorted_2017.tail())"
   ]
  },
  {
   "cell_type": "markdown",
   "metadata": {},
   "source": [
    "- I sorted the SAT 2018 by list by 'total'. I used the head() and tail() to get the highest and lowest scores in 2018."
   ]
  },
  {
   "cell_type": "code",
   "execution_count": 903,
   "metadata": {},
   "outputs": [
    {
     "name": "stdout",
     "output_type": "stream",
     "text": [
      "States with SAT lowest scores in 2018\n",
      "                    state  participation  ebrw  math  total  year\n",
      "8   District of Columbia           0.92   497   480    977  2018\n",
      "7               Delaware           1.00   505   492    998  2018\n",
      "48         West Virginia           0.28   513   486    999  2018\n",
      "12                 Idaho           1.00   508   493   1001  2018\n",
      "44                  Utah           0.04   480   530   1010  2018\n",
      "States with SAT highest scores in 2018\n",
      "            state  participation  ebrw  math  total  year\n",
      "16        Kansas           0.04   633   631   1265  2018\n",
      "15          Iowa           0.03   634   631   1265  2018\n",
      "34  North Dakota           0.02   640   643   1283  2018\n",
      "49     Wisconsin           0.03   641   653   1294  2018\n",
      "23     Minnesota           0.04   643   655   1298  2018\n"
     ]
    }
   ],
   "source": [
    "sorted_2018=db_sat_all_2018.sort_values(by='total')\n",
    "print(\"States with SAT lowest scores in 2018\\n\",sorted_2018.head())\n",
    "print(\"States with SAT highest scores in 2018\\n\",sorted_2018.tail())"
   ]
  },
  {
   "cell_type": "markdown",
   "metadata": {},
   "source": [
    "- I sorted the SAT 2019 by list by 'total'. I used the head() and tail() to get the highest and lowest scores in 2018."
   ]
  },
  {
   "cell_type": "code",
   "execution_count": 904,
   "metadata": {},
   "outputs": [
    {
     "name": "stdout",
     "output_type": "stream",
     "text": [
      "States with SAT lowest scores in 2019\n",
      "                    state  participation  ebrw  math  total  year\n",
      "50         West Virginia           0.99   483   460    943  2019\n",
      "36              Oklahoma           0.22   490   472    963  2019\n",
      "8   District of Columbia           0.94   495   480    975  2019\n",
      "7               Delaware           1.00   499   486    985  2019\n",
      "12                 Idaho           1.00   505   488    993  2019\n",
      "States with SAT highest scores in 2019\n",
      "            state  participation  ebrw  math  total  year\n",
      "27      Nebraska           0.03   628   631   1260  2019\n",
      "34  North Dakota           0.02   627   636   1263  2019\n",
      "42  South Dakota           0.03   633   635   1268  2019\n",
      "51     Wisconsin           0.03   635   648   1283  2019\n",
      "23     Minnesota           0.04   636   648   1284  2019\n"
     ]
    }
   ],
   "source": [
    "sorted_2019=db_sat_all_2019.sort_values(by='total')\n",
    "print(\"States with SAT lowest scores in 2019\\n\",sorted_2019.head())\n",
    "print(\"States with SAT highest scores in 2019\\n\",sorted_2019.tail())"
   ]
  },
  {
   "cell_type": "markdown",
   "metadata": {},
   "source": [
    "## Summary on SAT scores from Year 2017 to 2019\n",
    "- States with lowest SAT scores\n",
    "    - District of Columbia has the lowest SAT participation rate in 2017\n",
    "    - District of Columbia has the lowest SAT participation rate in 2018\n",
    "    - West Virginia has the lowest SAT participation rate in 2019\n",
    "\n",
    "- States with highest SAT scores\n",
    "    - Minnesota has the highest SAT score in 2017\n",
    "    - Minnesota has the highest SAT score in 2018\n",
    "    - Minnesota has the highest SAT score in 2019\n"
   ]
  },
  {
   "cell_type": "markdown",
   "metadata": {},
   "source": [
    "- Investigate trends in the data. I filter the db_act_all data by year. Then I sort the list based on participation. I use the function head() and tail() to list down the list showing the lowest and highest participation in 2017-2019"
   ]
  },
  {
   "cell_type": "code",
   "execution_count": 905,
   "metadata": {},
   "outputs": [],
   "source": [
    "db_act_all_2017=db_act_all[(db_act_all['year']==\"2017\")]\n",
    "db_act_all_2018=db_act_all[(db_act_all['year']==\"2018\")]\n",
    "db_act_all_2019=db_act_all[(db_act_all['year']==\"2019\")]"
   ]
  },
  {
   "cell_type": "markdown",
   "metadata": {},
   "source": [
    "- I sorted the ACT 2017 dataset by participaton. I use head() and tail() to display the lowest particiation and lowest participation in 2017"
   ]
  },
  {
   "cell_type": "code",
   "execution_count": 906,
   "metadata": {},
   "outputs": [
    {
     "name": "stdout",
     "output_type": "stream",
     "text": [
      "States with ACT lowest participation in 2017\n",
      "             state  participation  ebrw  math  total  year\n",
      "15          Iowa           0.02   641   635   1275  2017\n",
      "33  North Dakota           0.02   635   621   1256  2017\n",
      "23   Mississippi           0.02   634   607   1242  2017\n",
      "26      Nebraska           0.03   629   625   1253  2017\n",
      "48     Wisconsin           0.03   642   649   1291  2017\n",
      "States with ACT highest participation in 2017\n",
      "                     state  participation  ebrw  math  total  year\n",
      "28         New Hampshire           0.96   532   520   1052  2017\n",
      "6            Connecticut           1.00   530   512   1041  2017\n",
      "7               Delaware           1.00   503   492    996  2017\n",
      "8   District of Columbia           1.00   482   468    950  2017\n",
      "21              Michigan           1.00   509   495   1005  2017\n"
     ]
    }
   ],
   "source": [
    "sorted_2017=db_sat_all_2017.sort_values(by='participation')\n",
    "print(\"States with ACT lowest participation in 2017\\n \", sorted_2017.head())\n",
    "print(\"States with ACT highest participation in 2017\\n \", sorted_2017.tail())"
   ]
  },
  {
   "cell_type": "markdown",
   "metadata": {},
   "source": [
    "- I sorted the ACT 2018 dataset by participaton. I use head() and tail() to display the lowest particiation and lowest participation in 2018"
   ]
  },
  {
   "cell_type": "code",
   "execution_count": 907,
   "metadata": {},
   "outputs": [
    {
     "name": "stdout",
     "output_type": "stream",
     "text": [
      "States with ACT lowest participation in 2018\n",
      "             state  participation  composite  year\n",
      "19          Maine           0.07       24.0  2018\n",
      "20          Maine           0.07       24.0  2018\n",
      "40   Rhode Island           0.15       24.2  2018\n",
      "30  New Hampshire           0.16       25.1  2018\n",
      "7        Delaware           0.17       23.8  2018\n",
      "States with ACT highest participation in 2018\n",
      "         state  participation  composite  year\n",
      "18  Louisiana            1.0       19.2  2018\n",
      "17   Kentucky            1.0       20.2  2018\n",
      "3    Arkansas            1.0       19.4  2018\n",
      "37   Oklahoma            1.0       19.3  2018\n",
      "51    Wyoming            1.0       20.0  2018\n"
     ]
    }
   ],
   "source": [
    "sorted_2018=db_act_all_2018.sort_values(by='participation')\n",
    "print(\"States with ACT lowest participation in 2018\\n\", sorted_2018.head())\n",
    "print(\"States with ACT highest participation in 2018\\n\", sorted_2018.tail())"
   ]
  },
  {
   "cell_type": "markdown",
   "metadata": {},
   "source": [
    "- I sorted the ACT 2019 dataset by participaton. I use head() and tail() to display the lowest particiation and lowest participation in 2019"
   ]
  },
  {
   "cell_type": "code",
   "execution_count": 908,
   "metadata": {},
   "outputs": [
    {
     "name": "stdout",
     "output_type": "stream",
     "text": [
      "States with ACT lowest participation in 2019\n",
      "              state  participation  composite  year\n",
      "19          Maine           0.06       24.3  2019\n",
      "39   Rhode Island           0.12       24.7  2019\n",
      "7        Delaware           0.13       24.1  2019\n",
      "29  New Hampshire           0.14       25.0  2019\n",
      "38   Pennsylvania           0.17       23.6  2019\n",
      "States with ACT highest participation in 2019\n",
      "              state  participation  composite  year\n",
      "28          Nevada            1.0       17.9  2019\n",
      "33  North Carolina            1.0       19.0  2019\n",
      "36        Oklahoma            1.0       18.9  2019\n",
      "42       Tennessee            1.0       19.4  2019\n",
      "0          Alabama            1.0       18.9  2019\n"
     ]
    }
   ],
   "source": [
    "sorted_2019=db_act_all_2019.sort_values(by='participation')\n",
    "print(\"States with ACT lowest participation in 2019\\n \", sorted_2019.head())\n",
    "print(\"States with ACT highest participation in 2019\\n\", sorted_2019.tail())"
   ]
  },
  {
   "cell_type": "markdown",
   "metadata": {},
   "source": [
    "## Summary on ACT participation rate from Year 2017 to 2019\n",
    "- States with lowest ACT participation rate\n",
    "    - Utah has the lowest ACT participation rate in 2017\n",
    "    - Maine has the lowest ACT participation rate in 2018\n",
    "    - Maine has the lowest ACT participation rate in 2019\n",
    "\n",
    "- States with highest ACT participation rate\n",
    "    - Michigan,District of Columbia, Delaware,Connecticut has the highest ACT participation rate in 2017\n",
    "    - Louisiana,Kentucky, Arkansas,Oklahoma,Wyoming has the highest ACT participation rate in 2018\n",
    "    - Nevada, North Carolina, Oklahoma,Tennessee,Alabam has the highest ACT participation rate in 2019\n",
    "   \n"
   ]
  },
  {
   "cell_type": "markdown",
   "metadata": {},
   "source": [
    "- I sorted the ACT 2017 by list by 'composite'. I used the head() and tail() to get the highest and lowest scores in 2017."
   ]
  },
  {
   "cell_type": "code",
   "execution_count": 909,
   "metadata": {},
   "outputs": [
    {
     "name": "stdout",
     "output_type": "stream",
     "text": [
      "States with ACT lowest scores in 2017\n",
      "              state  participation  composite  year\n",
      "28          Nevada            1.0       17.8  2017\n",
      "24     Mississippi            1.0       18.6  2017\n",
      "40  South Carolina            1.0       18.7  2017\n",
      "12          Hawaii            0.9       19.0  2017\n",
      "33  North Carolina            1.0       19.1  2017\n",
      "States with ACT highest scores in 2017\n",
      "                    state  participation  composite  year\n",
      "9   District of Columbia           0.32       24.2  2017\n",
      "20                 Maine           0.08       24.3  2017\n",
      "7            Connecticut           0.31       25.2  2017\n",
      "21         Massachusetts           0.29       25.4  2017\n",
      "29         New Hampshire           0.18       25.5  2017\n"
     ]
    }
   ],
   "source": [
    "sorted_2017=db_act_all_2017.sort_values(by='composite')\n",
    "print(\"States with ACT lowest scores in 2017\\n\", sorted_2017.head())\n",
    "print(\"States with ACT highest scores in 2017\\n\", sorted_2017.tail())"
   ]
  },
  {
   "cell_type": "markdown",
   "metadata": {},
   "source": [
    "- I sorted the ACT 2018 by list by 'composite'. I used the head() and tail() to get the highest and lowest scores in 2018."
   ]
  },
  {
   "cell_type": "code",
   "execution_count": 910,
   "metadata": {},
   "outputs": [
    {
     "name": "stdout",
     "output_type": "stream",
     "text": [
      "States with ACT lowest scores in 2018\n",
      "              state  participation  composite  year\n",
      "29          Nevada           1.00       17.7  2018\n",
      "41  South Carolina           1.00       18.3  2018\n",
      "25     Mississippi           1.00       18.6  2018\n",
      "11          Hawaii           0.89       18.9  2018\n",
      "34  North Carolina           1.00       19.1  2018\n",
      "States with ACT highest scores in 2018\n",
      "             state  participation  composite  year\n",
      "40   Rhode Island           0.15       24.2  2018\n",
      "33       New York           0.27       24.5  2018\n",
      "30  New Hampshire           0.16       25.1  2018\n",
      "22  Massachusetts           0.25       25.5  2018\n",
      "6     Connecticut           0.26       25.6  2018\n"
     ]
    }
   ],
   "source": [
    "sorted_2018=db_act_all_2018.sort_values(by='composite')\n",
    "print(\"States with ACT lowest scores in 2018\\n\",sorted_2018.head())\n",
    "print(\"States with ACT highest scores in 2018\\n\",sorted_2018.tail())"
   ]
  },
  {
   "cell_type": "markdown",
   "metadata": {},
   "source": [
    "- I sorted the ACT 2019 by list by 'composite'. I used the head() and tail() to get the highest and lowest scores in 2019."
   ]
  },
  {
   "cell_type": "code",
   "execution_count": 911,
   "metadata": {},
   "outputs": [
    {
     "name": "stdout",
     "output_type": "stream",
     "text": [
      "States with ACT lowest scores in 2019\n",
      "              state  participation  composite  year\n",
      "28          Nevada           1.00       17.9  2019\n",
      "24     Mississippi           1.00       18.4  2019\n",
      "18       Louisiana           1.00       18.8  2019\n",
      "40  South Carolina           0.78       18.8  2019\n",
      "36        Oklahoma           1.00       18.9  2019\n",
      "States with ACT highest scores in 2019\n",
      "             state  participation  composite  year\n",
      "32       New York           0.22       24.5  2019\n",
      "39   Rhode Island           0.12       24.7  2019\n",
      "29  New Hampshire           0.14       25.0  2019\n",
      "21  Massachusetts           0.21       25.5  2019\n",
      "6     Connecticut           0.22       25.5  2019\n"
     ]
    }
   ],
   "source": [
    "sorted_2019=db_act_all_2019.sort_values(by='composite')\n",
    "print(\"States with ACT lowest scores in 2019\\n\",sorted_2019.head())\n",
    "print(\"States with ACT highest scores in 2019\\n\",sorted_2019.tail())"
   ]
  },
  {
   "cell_type": "markdown",
   "metadata": {},
   "source": [
    "## Summary on ACT scores from Year 2017 to 2019\n",
    "- States with lowest ACT scores\n",
    "    - Nevada has the lowest ACT scores in 2017\n",
    "    - Nevada has the lowest ACT scores in 2018\n",
    "    - Nevada has the lowest ACT scores in 2019\n",
    "\n",
    "- States with highest ACT scores\n",
    "    - New Hampshire has the highest ACT scores in 2017\n",
    "    - Connecticut has the highest ACT scores in 2018\n",
    "    - Connecticut, Massachusetts has the highest ACT scores in 2019\n"
   ]
  },
  {
   "cell_type": "markdown",
   "metadata": {},
   "source": [
    "   \n",
    "Please try to link your findings back to your problem statement. What do these findings mean for your son's education? How does it inform the way you'll prepare your children for college?\n",
    "    \n",
    "If you're filtering your data using more than one condition (e.g. you have filtered by SAT participation AND ACT partipation more than 50%), you can use the `&` operator.</font>"
   ]
  },
  {
   "cell_type": "markdown",
   "metadata": {},
   "source": [
    "- I perform a filter for participation rate of >50% for both SAT and ACT "
   ]
  },
  {
   "cell_type": "code",
   "execution_count": 912,
   "metadata": {},
   "outputs": [
    {
     "data": {
      "text/html": [
       "<div>\n",
       "<style scoped>\n",
       "    .dataframe tbody tr th:only-of-type {\n",
       "        vertical-align: middle;\n",
       "    }\n",
       "\n",
       "    .dataframe tbody tr th {\n",
       "        vertical-align: top;\n",
       "    }\n",
       "\n",
       "    .dataframe thead th {\n",
       "        text-align: right;\n",
       "    }\n",
       "</style>\n",
       "<table border=\"1\" class=\"dataframe\">\n",
       "  <thead>\n",
       "    <tr style=\"text-align: right;\">\n",
       "      <th></th>\n",
       "      <th>state</th>\n",
       "      <th>participation_sat</th>\n",
       "      <th>ebrw_sat</th>\n",
       "      <th>math</th>\n",
       "      <th>total_sat</th>\n",
       "      <th>year_sat</th>\n",
       "      <th>participation_act</th>\n",
       "      <th>composite</th>\n",
       "      <th>year_act</th>\n",
       "    </tr>\n",
       "  </thead>\n",
       "  <tbody>\n",
       "    <tr>\n",
       "      <th>48</th>\n",
       "      <td>Colorado</td>\n",
       "      <td>1.00</td>\n",
       "      <td>519</td>\n",
       "      <td>506</td>\n",
       "      <td>1025</td>\n",
       "      <td>2018</td>\n",
       "      <td>1.00</td>\n",
       "      <td>20.8</td>\n",
       "      <td>2017</td>\n",
       "    </tr>\n",
       "    <tr>\n",
       "      <th>51</th>\n",
       "      <td>Colorado</td>\n",
       "      <td>1.00</td>\n",
       "      <td>518</td>\n",
       "      <td>506</td>\n",
       "      <td>1024</td>\n",
       "      <td>2019</td>\n",
       "      <td>1.00</td>\n",
       "      <td>20.8</td>\n",
       "      <td>2017</td>\n",
       "    </tr>\n",
       "    <tr>\n",
       "      <th>81</th>\n",
       "      <td>Florida</td>\n",
       "      <td>0.83</td>\n",
       "      <td>520</td>\n",
       "      <td>497</td>\n",
       "      <td>1017</td>\n",
       "      <td>2017</td>\n",
       "      <td>0.73</td>\n",
       "      <td>19.8</td>\n",
       "      <td>2017</td>\n",
       "    </tr>\n",
       "    <tr>\n",
       "      <th>82</th>\n",
       "      <td>Florida</td>\n",
       "      <td>0.83</td>\n",
       "      <td>520</td>\n",
       "      <td>497</td>\n",
       "      <td>1017</td>\n",
       "      <td>2017</td>\n",
       "      <td>0.66</td>\n",
       "      <td>19.9</td>\n",
       "      <td>2018</td>\n",
       "    </tr>\n",
       "    <tr>\n",
       "      <th>83</th>\n",
       "      <td>Florida</td>\n",
       "      <td>0.83</td>\n",
       "      <td>520</td>\n",
       "      <td>497</td>\n",
       "      <td>1017</td>\n",
       "      <td>2017</td>\n",
       "      <td>0.54</td>\n",
       "      <td>20.1</td>\n",
       "      <td>2019</td>\n",
       "    </tr>\n",
       "    <tr>\n",
       "      <th>84</th>\n",
       "      <td>Florida</td>\n",
       "      <td>0.56</td>\n",
       "      <td>550</td>\n",
       "      <td>549</td>\n",
       "      <td>1099</td>\n",
       "      <td>2018</td>\n",
       "      <td>0.73</td>\n",
       "      <td>19.8</td>\n",
       "      <td>2017</td>\n",
       "    </tr>\n",
       "    <tr>\n",
       "      <th>85</th>\n",
       "      <td>Florida</td>\n",
       "      <td>0.56</td>\n",
       "      <td>550</td>\n",
       "      <td>549</td>\n",
       "      <td>1099</td>\n",
       "      <td>2018</td>\n",
       "      <td>0.66</td>\n",
       "      <td>19.9</td>\n",
       "      <td>2018</td>\n",
       "    </tr>\n",
       "    <tr>\n",
       "      <th>86</th>\n",
       "      <td>Florida</td>\n",
       "      <td>0.56</td>\n",
       "      <td>550</td>\n",
       "      <td>549</td>\n",
       "      <td>1099</td>\n",
       "      <td>2018</td>\n",
       "      <td>0.54</td>\n",
       "      <td>20.1</td>\n",
       "      <td>2019</td>\n",
       "    </tr>\n",
       "    <tr>\n",
       "      <th>87</th>\n",
       "      <td>Florida</td>\n",
       "      <td>1.00</td>\n",
       "      <td>516</td>\n",
       "      <td>483</td>\n",
       "      <td>999</td>\n",
       "      <td>2019</td>\n",
       "      <td>0.73</td>\n",
       "      <td>19.8</td>\n",
       "      <td>2017</td>\n",
       "    </tr>\n",
       "    <tr>\n",
       "      <th>88</th>\n",
       "      <td>Florida</td>\n",
       "      <td>1.00</td>\n",
       "      <td>516</td>\n",
       "      <td>483</td>\n",
       "      <td>999</td>\n",
       "      <td>2019</td>\n",
       "      <td>0.66</td>\n",
       "      <td>19.9</td>\n",
       "      <td>2018</td>\n",
       "    </tr>\n",
       "    <tr>\n",
       "      <th>89</th>\n",
       "      <td>Florida</td>\n",
       "      <td>1.00</td>\n",
       "      <td>516</td>\n",
       "      <td>483</td>\n",
       "      <td>999</td>\n",
       "      <td>2019</td>\n",
       "      <td>0.54</td>\n",
       "      <td>20.1</td>\n",
       "      <td>2019</td>\n",
       "    </tr>\n",
       "    <tr>\n",
       "      <th>90</th>\n",
       "      <td>Georgia</td>\n",
       "      <td>0.61</td>\n",
       "      <td>535</td>\n",
       "      <td>515</td>\n",
       "      <td>1050</td>\n",
       "      <td>2017</td>\n",
       "      <td>0.55</td>\n",
       "      <td>21.4</td>\n",
       "      <td>2017</td>\n",
       "    </tr>\n",
       "    <tr>\n",
       "      <th>91</th>\n",
       "      <td>Georgia</td>\n",
       "      <td>0.61</td>\n",
       "      <td>535</td>\n",
       "      <td>515</td>\n",
       "      <td>1050</td>\n",
       "      <td>2017</td>\n",
       "      <td>0.53</td>\n",
       "      <td>21.4</td>\n",
       "      <td>2018</td>\n",
       "    </tr>\n",
       "    <tr>\n",
       "      <th>93</th>\n",
       "      <td>Georgia</td>\n",
       "      <td>0.70</td>\n",
       "      <td>542</td>\n",
       "      <td>522</td>\n",
       "      <td>1064</td>\n",
       "      <td>2018</td>\n",
       "      <td>0.55</td>\n",
       "      <td>21.4</td>\n",
       "      <td>2017</td>\n",
       "    </tr>\n",
       "    <tr>\n",
       "      <th>94</th>\n",
       "      <td>Georgia</td>\n",
       "      <td>0.70</td>\n",
       "      <td>542</td>\n",
       "      <td>522</td>\n",
       "      <td>1064</td>\n",
       "      <td>2018</td>\n",
       "      <td>0.53</td>\n",
       "      <td>21.4</td>\n",
       "      <td>2018</td>\n",
       "    </tr>\n",
       "    <tr>\n",
       "      <th>96</th>\n",
       "      <td>Georgia</td>\n",
       "      <td>0.71</td>\n",
       "      <td>538</td>\n",
       "      <td>519</td>\n",
       "      <td>1058</td>\n",
       "      <td>2019</td>\n",
       "      <td>0.55</td>\n",
       "      <td>21.4</td>\n",
       "      <td>2017</td>\n",
       "    </tr>\n",
       "    <tr>\n",
       "      <th>97</th>\n",
       "      <td>Georgia</td>\n",
       "      <td>0.71</td>\n",
       "      <td>538</td>\n",
       "      <td>519</td>\n",
       "      <td>1058</td>\n",
       "      <td>2019</td>\n",
       "      <td>0.53</td>\n",
       "      <td>21.4</td>\n",
       "      <td>2018</td>\n",
       "    </tr>\n",
       "    <tr>\n",
       "      <th>99</th>\n",
       "      <td>Hawaii</td>\n",
       "      <td>0.55</td>\n",
       "      <td>544</td>\n",
       "      <td>541</td>\n",
       "      <td>1085</td>\n",
       "      <td>2017</td>\n",
       "      <td>0.90</td>\n",
       "      <td>19.0</td>\n",
       "      <td>2017</td>\n",
       "    </tr>\n",
       "    <tr>\n",
       "      <th>100</th>\n",
       "      <td>Hawaii</td>\n",
       "      <td>0.55</td>\n",
       "      <td>544</td>\n",
       "      <td>541</td>\n",
       "      <td>1085</td>\n",
       "      <td>2017</td>\n",
       "      <td>0.89</td>\n",
       "      <td>18.9</td>\n",
       "      <td>2018</td>\n",
       "    </tr>\n",
       "    <tr>\n",
       "      <th>101</th>\n",
       "      <td>Hawaii</td>\n",
       "      <td>0.55</td>\n",
       "      <td>544</td>\n",
       "      <td>541</td>\n",
       "      <td>1085</td>\n",
       "      <td>2017</td>\n",
       "      <td>0.80</td>\n",
       "      <td>19.0</td>\n",
       "      <td>2019</td>\n",
       "    </tr>\n",
       "    <tr>\n",
       "      <th>102</th>\n",
       "      <td>Hawaii</td>\n",
       "      <td>0.56</td>\n",
       "      <td>480</td>\n",
       "      <td>530</td>\n",
       "      <td>1010</td>\n",
       "      <td>2018</td>\n",
       "      <td>0.90</td>\n",
       "      <td>19.0</td>\n",
       "      <td>2017</td>\n",
       "    </tr>\n",
       "    <tr>\n",
       "      <th>103</th>\n",
       "      <td>Hawaii</td>\n",
       "      <td>0.56</td>\n",
       "      <td>480</td>\n",
       "      <td>530</td>\n",
       "      <td>1010</td>\n",
       "      <td>2018</td>\n",
       "      <td>0.89</td>\n",
       "      <td>18.9</td>\n",
       "      <td>2018</td>\n",
       "    </tr>\n",
       "    <tr>\n",
       "      <th>104</th>\n",
       "      <td>Hawaii</td>\n",
       "      <td>0.56</td>\n",
       "      <td>480</td>\n",
       "      <td>530</td>\n",
       "      <td>1010</td>\n",
       "      <td>2018</td>\n",
       "      <td>0.80</td>\n",
       "      <td>19.0</td>\n",
       "      <td>2019</td>\n",
       "    </tr>\n",
       "    <tr>\n",
       "      <th>105</th>\n",
       "      <td>Hawaii</td>\n",
       "      <td>0.54</td>\n",
       "      <td>550</td>\n",
       "      <td>550</td>\n",
       "      <td>1100</td>\n",
       "      <td>2019</td>\n",
       "      <td>0.90</td>\n",
       "      <td>19.0</td>\n",
       "      <td>2017</td>\n",
       "    </tr>\n",
       "    <tr>\n",
       "      <th>106</th>\n",
       "      <td>Hawaii</td>\n",
       "      <td>0.54</td>\n",
       "      <td>550</td>\n",
       "      <td>550</td>\n",
       "      <td>1100</td>\n",
       "      <td>2019</td>\n",
       "      <td>0.89</td>\n",
       "      <td>18.9</td>\n",
       "      <td>2018</td>\n",
       "    </tr>\n",
       "    <tr>\n",
       "      <th>107</th>\n",
       "      <td>Hawaii</td>\n",
       "      <td>0.54</td>\n",
       "      <td>550</td>\n",
       "      <td>550</td>\n",
       "      <td>1100</td>\n",
       "      <td>2019</td>\n",
       "      <td>0.80</td>\n",
       "      <td>19.0</td>\n",
       "      <td>2019</td>\n",
       "    </tr>\n",
       "    <tr>\n",
       "      <th>120</th>\n",
       "      <td>Illinois</td>\n",
       "      <td>0.99</td>\n",
       "      <td>513</td>\n",
       "      <td>506</td>\n",
       "      <td>1019</td>\n",
       "      <td>2018</td>\n",
       "      <td>0.93</td>\n",
       "      <td>21.4</td>\n",
       "      <td>2017</td>\n",
       "    </tr>\n",
       "    <tr>\n",
       "      <th>123</th>\n",
       "      <td>Illinois</td>\n",
       "      <td>1.00</td>\n",
       "      <td>509</td>\n",
       "      <td>504</td>\n",
       "      <td>1013</td>\n",
       "      <td>2019</td>\n",
       "      <td>0.93</td>\n",
       "      <td>21.4</td>\n",
       "      <td>2017</td>\n",
       "    </tr>\n",
       "    <tr>\n",
       "      <th>294</th>\n",
       "      <td>North Carolina</td>\n",
       "      <td>0.52</td>\n",
       "      <td>554</td>\n",
       "      <td>543</td>\n",
       "      <td>1098</td>\n",
       "      <td>2018</td>\n",
       "      <td>1.00</td>\n",
       "      <td>19.1</td>\n",
       "      <td>2017</td>\n",
       "    </tr>\n",
       "    <tr>\n",
       "      <th>295</th>\n",
       "      <td>North Carolina</td>\n",
       "      <td>0.52</td>\n",
       "      <td>554</td>\n",
       "      <td>543</td>\n",
       "      <td>1098</td>\n",
       "      <td>2018</td>\n",
       "      <td>1.00</td>\n",
       "      <td>19.1</td>\n",
       "      <td>2018</td>\n",
       "    </tr>\n",
       "    <tr>\n",
       "      <th>296</th>\n",
       "      <td>North Carolina</td>\n",
       "      <td>0.52</td>\n",
       "      <td>554</td>\n",
       "      <td>543</td>\n",
       "      <td>1098</td>\n",
       "      <td>2018</td>\n",
       "      <td>1.00</td>\n",
       "      <td>19.0</td>\n",
       "      <td>2019</td>\n",
       "    </tr>\n",
       "    <tr>\n",
       "      <th>297</th>\n",
       "      <td>North Carolina</td>\n",
       "      <td>0.51</td>\n",
       "      <td>554</td>\n",
       "      <td>546</td>\n",
       "      <td>1100</td>\n",
       "      <td>2019</td>\n",
       "      <td>1.00</td>\n",
       "      <td>19.1</td>\n",
       "      <td>2017</td>\n",
       "    </tr>\n",
       "    <tr>\n",
       "      <th>298</th>\n",
       "      <td>North Carolina</td>\n",
       "      <td>0.51</td>\n",
       "      <td>554</td>\n",
       "      <td>546</td>\n",
       "      <td>1100</td>\n",
       "      <td>2019</td>\n",
       "      <td>1.00</td>\n",
       "      <td>19.1</td>\n",
       "      <td>2018</td>\n",
       "    </tr>\n",
       "    <tr>\n",
       "      <th>299</th>\n",
       "      <td>North Carolina</td>\n",
       "      <td>0.51</td>\n",
       "      <td>554</td>\n",
       "      <td>546</td>\n",
       "      <td>1100</td>\n",
       "      <td>2019</td>\n",
       "      <td>1.00</td>\n",
       "      <td>19.0</td>\n",
       "      <td>2019</td>\n",
       "    </tr>\n",
       "    <tr>\n",
       "      <th>357</th>\n",
       "      <td>South Carolina</td>\n",
       "      <td>0.55</td>\n",
       "      <td>547</td>\n",
       "      <td>523</td>\n",
       "      <td>1070</td>\n",
       "      <td>2018</td>\n",
       "      <td>1.00</td>\n",
       "      <td>18.7</td>\n",
       "      <td>2017</td>\n",
       "    </tr>\n",
       "    <tr>\n",
       "      <th>358</th>\n",
       "      <td>South Carolina</td>\n",
       "      <td>0.55</td>\n",
       "      <td>547</td>\n",
       "      <td>523</td>\n",
       "      <td>1070</td>\n",
       "      <td>2018</td>\n",
       "      <td>1.00</td>\n",
       "      <td>18.3</td>\n",
       "      <td>2018</td>\n",
       "    </tr>\n",
       "    <tr>\n",
       "      <th>359</th>\n",
       "      <td>South Carolina</td>\n",
       "      <td>0.55</td>\n",
       "      <td>547</td>\n",
       "      <td>523</td>\n",
       "      <td>1070</td>\n",
       "      <td>2018</td>\n",
       "      <td>0.78</td>\n",
       "      <td>18.8</td>\n",
       "      <td>2019</td>\n",
       "    </tr>\n",
       "    <tr>\n",
       "      <th>360</th>\n",
       "      <td>South Carolina</td>\n",
       "      <td>0.68</td>\n",
       "      <td>526</td>\n",
       "      <td>504</td>\n",
       "      <td>1030</td>\n",
       "      <td>2019</td>\n",
       "      <td>1.00</td>\n",
       "      <td>18.7</td>\n",
       "      <td>2017</td>\n",
       "    </tr>\n",
       "    <tr>\n",
       "      <th>361</th>\n",
       "      <td>South Carolina</td>\n",
       "      <td>0.68</td>\n",
       "      <td>526</td>\n",
       "      <td>504</td>\n",
       "      <td>1030</td>\n",
       "      <td>2019</td>\n",
       "      <td>1.00</td>\n",
       "      <td>18.3</td>\n",
       "      <td>2018</td>\n",
       "    </tr>\n",
       "    <tr>\n",
       "      <th>362</th>\n",
       "      <td>South Carolina</td>\n",
       "      <td>0.68</td>\n",
       "      <td>526</td>\n",
       "      <td>504</td>\n",
       "      <td>1030</td>\n",
       "      <td>2019</td>\n",
       "      <td>0.78</td>\n",
       "      <td>18.8</td>\n",
       "      <td>2019</td>\n",
       "    </tr>\n",
       "    <tr>\n",
       "      <th>432</th>\n",
       "      <td>West Virginia</td>\n",
       "      <td>0.99</td>\n",
       "      <td>483</td>\n",
       "      <td>460</td>\n",
       "      <td>943</td>\n",
       "      <td>2019</td>\n",
       "      <td>0.69</td>\n",
       "      <td>20.4</td>\n",
       "      <td>2017</td>\n",
       "    </tr>\n",
       "    <tr>\n",
       "      <th>433</th>\n",
       "      <td>West Virginia</td>\n",
       "      <td>0.99</td>\n",
       "      <td>483</td>\n",
       "      <td>460</td>\n",
       "      <td>943</td>\n",
       "      <td>2019</td>\n",
       "      <td>0.65</td>\n",
       "      <td>20.3</td>\n",
       "      <td>2018</td>\n",
       "    </tr>\n",
       "  </tbody>\n",
       "</table>\n",
       "</div>"
      ],
      "text/plain": [
       "              state  participation_sat  ebrw_sat  math  total_sat year_sat  \\\n",
       "48         Colorado               1.00       519   506       1025     2018   \n",
       "51         Colorado               1.00       518   506       1024     2019   \n",
       "81          Florida               0.83       520   497       1017     2017   \n",
       "82          Florida               0.83       520   497       1017     2017   \n",
       "83          Florida               0.83       520   497       1017     2017   \n",
       "84          Florida               0.56       550   549       1099     2018   \n",
       "85          Florida               0.56       550   549       1099     2018   \n",
       "86          Florida               0.56       550   549       1099     2018   \n",
       "87          Florida               1.00       516   483        999     2019   \n",
       "88          Florida               1.00       516   483        999     2019   \n",
       "89          Florida               1.00       516   483        999     2019   \n",
       "90          Georgia               0.61       535   515       1050     2017   \n",
       "91          Georgia               0.61       535   515       1050     2017   \n",
       "93          Georgia               0.70       542   522       1064     2018   \n",
       "94          Georgia               0.70       542   522       1064     2018   \n",
       "96          Georgia               0.71       538   519       1058     2019   \n",
       "97          Georgia               0.71       538   519       1058     2019   \n",
       "99           Hawaii               0.55       544   541       1085     2017   \n",
       "100          Hawaii               0.55       544   541       1085     2017   \n",
       "101          Hawaii               0.55       544   541       1085     2017   \n",
       "102          Hawaii               0.56       480   530       1010     2018   \n",
       "103          Hawaii               0.56       480   530       1010     2018   \n",
       "104          Hawaii               0.56       480   530       1010     2018   \n",
       "105          Hawaii               0.54       550   550       1100     2019   \n",
       "106          Hawaii               0.54       550   550       1100     2019   \n",
       "107          Hawaii               0.54       550   550       1100     2019   \n",
       "120        Illinois               0.99       513   506       1019     2018   \n",
       "123        Illinois               1.00       509   504       1013     2019   \n",
       "294  North Carolina               0.52       554   543       1098     2018   \n",
       "295  North Carolina               0.52       554   543       1098     2018   \n",
       "296  North Carolina               0.52       554   543       1098     2018   \n",
       "297  North Carolina               0.51       554   546       1100     2019   \n",
       "298  North Carolina               0.51       554   546       1100     2019   \n",
       "299  North Carolina               0.51       554   546       1100     2019   \n",
       "357  South Carolina               0.55       547   523       1070     2018   \n",
       "358  South Carolina               0.55       547   523       1070     2018   \n",
       "359  South Carolina               0.55       547   523       1070     2018   \n",
       "360  South Carolina               0.68       526   504       1030     2019   \n",
       "361  South Carolina               0.68       526   504       1030     2019   \n",
       "362  South Carolina               0.68       526   504       1030     2019   \n",
       "432   West Virginia               0.99       483   460        943     2019   \n",
       "433   West Virginia               0.99       483   460        943     2019   \n",
       "\n",
       "     participation_act  composite year_act  \n",
       "48                1.00       20.8     2017  \n",
       "51                1.00       20.8     2017  \n",
       "81                0.73       19.8     2017  \n",
       "82                0.66       19.9     2018  \n",
       "83                0.54       20.1     2019  \n",
       "84                0.73       19.8     2017  \n",
       "85                0.66       19.9     2018  \n",
       "86                0.54       20.1     2019  \n",
       "87                0.73       19.8     2017  \n",
       "88                0.66       19.9     2018  \n",
       "89                0.54       20.1     2019  \n",
       "90                0.55       21.4     2017  \n",
       "91                0.53       21.4     2018  \n",
       "93                0.55       21.4     2017  \n",
       "94                0.53       21.4     2018  \n",
       "96                0.55       21.4     2017  \n",
       "97                0.53       21.4     2018  \n",
       "99                0.90       19.0     2017  \n",
       "100               0.89       18.9     2018  \n",
       "101               0.80       19.0     2019  \n",
       "102               0.90       19.0     2017  \n",
       "103               0.89       18.9     2018  \n",
       "104               0.80       19.0     2019  \n",
       "105               0.90       19.0     2017  \n",
       "106               0.89       18.9     2018  \n",
       "107               0.80       19.0     2019  \n",
       "120               0.93       21.4     2017  \n",
       "123               0.93       21.4     2017  \n",
       "294               1.00       19.1     2017  \n",
       "295               1.00       19.1     2018  \n",
       "296               1.00       19.0     2019  \n",
       "297               1.00       19.1     2017  \n",
       "298               1.00       19.1     2018  \n",
       "299               1.00       19.0     2019  \n",
       "357               1.00       18.7     2017  \n",
       "358               1.00       18.3     2018  \n",
       "359               0.78       18.8     2019  \n",
       "360               1.00       18.7     2017  \n",
       "361               1.00       18.3     2018  \n",
       "362               0.78       18.8     2019  \n",
       "432               0.69       20.4     2017  \n",
       "433               0.65       20.3     2018  "
      ]
     },
     "execution_count": 912,
     "metadata": {},
     "output_type": "execute_result"
    }
   ],
   "source": [
    "db_satact_all_50=db_satact_all[(db_satact_all['participation_sat']>0.5)]\n",
    "db_satact_all_50=db_satact_all_50[(db_satact_all_50['participation_act']>0.5)]\n",
    "db_satact_all_50\n"
   ]
  },
  {
   "cell_type": "markdown",
   "metadata": {},
   "source": [
    "- Do any states show have >50% participation on *both* tests each year?\n",
    "- Yes, West Virginia, South Carolina, Illinoi, Hawai, Georgia, Florida and Colorado that have >50% participation on both test each year"
   ]
  },
  {
   "cell_type": "markdown",
   "metadata": {},
   "source": [
    "**To-Do:** *Edit this cell with your findings on trends in the data (step 3 above).*"
   ]
  },
  {
   "cell_type": "markdown",
   "metadata": {},
   "source": [
    "## Visualize the Data\n",
    "\n",
    "There's not a magic bullet recommendation for the right number of plots to understand a given dataset, but visualizing your data is *always* a good idea. Not only does it allow you to quickly convey your findings (even if you have a non-technical audience), it will often reveal trends in your data that escaped you when you were looking only at numbers. It is important to not only create visualizations, but to **interpret your visualizations** as well.\n",
    "\n",
    "**Every plot should**:\n",
    "- Have a title\n",
    "- Have axis labels\n",
    "- Have appropriate tick labels\n",
    "- Text is legible in a plot\n",
    "- Plots demonstrate meaningful and valid relationships\n",
    "- Have an interpretation to aid understanding\n",
    "\n",
    "Here is an example of what your plots should look like following the above guidelines. Note that while the content of this example is unrelated, the principles of visualization hold:\n",
    "\n",
    "![](https://snag.gy/hCBR1U.jpg)\n",
    "*Interpretation: The above image shows that as we increase our spending on advertising, our sales numbers also tend to increase. There is a positive correlation between advertising spending and sales.*\n",
    "\n",
    "---\n",
    "\n",
    "Here are some prompts to get you started with visualizations. Feel free to add additional visualizations as you see fit:\n",
    "1. Use Seaborn's heatmap with pandas `.corr()` to visualize correlations between all numeric features.\n",
    "    - Heatmaps are generally not appropriate for presentations, and should often be excluded from reports as they can be visually overwhelming. **However**, they can be extremely useful in identify relationships of potential interest (as well as identifying potential collinearity before modeling).\n",
    "    - Please take time to format your output, adding a title. Look through some of the additional arguments and options. (Axis labels aren't really necessary, as long as the title is informative).\n",
    "2. Visualize distributions using histograms. If you have a lot, consider writing a custom function and use subplots.\n",
    "    - *OPTIONAL*: Summarize the underlying distributions of your features (in words & statistics)\n",
    "         - Be thorough in your verbal description of these distributions.\n",
    "         - Be sure to back up these summaries with statistics.\n",
    "         - We generally assume that data we sample from a population will be normally distributed. Do we observe this trend? Explain your answers for each distribution and how you think this will affect estimates made from these data.\n",
    "3. Plot and interpret boxplots. \n",
    "    - Boxplots demonstrate central tendency and spread in variables. In a certain sense, these are somewhat redundant with histograms, but you may be better able to identify clear outliers or differences in IQR, etc.\n",
    "    - Multiple values can be plotted to a single boxplot as long as they are of the same relative scale (meaning they have similar min/max values).\n",
    "    - Each boxplot should:\n",
    "        - Only include variables of a similar scale\n",
    "        - Have clear labels for each variable\n",
    "        - Have appropriate titles and labels\n",
    "4. Plot and interpret scatter plots to view relationships between features. Feel free to write a custom function, and subplot if you'd like. Functions save both time and space.\n",
    "    - Your plots should have:\n",
    "        - Two clearly labeled axes\n",
    "        - A proper title\n",
    "        - Colors and symbols that are clear and unmistakable\n",
    "5. Additional plots of your choosing.\n",
    "    - Are there any additional trends or relationships you haven't explored? Was there something interesting you saw that you'd like to dive further into? It's likely that there are a few more plots you might want to generate to support your narrative and recommendations that you are building toward. **As always, make sure you're interpreting your plots as you go**."
   ]
  },
  {
   "cell_type": "markdown",
   "metadata": {},
   "source": [
    "**Use Seaborn's heatmap with pandas `.corr()` to visualize correlations between all numeric features."
   ]
  },
  {
   "cell_type": "markdown",
   "metadata": {},
   "source": [
    "   \n",
    "You have included comments to explain what each line of code does. This is good! Please do the same for the code in the rest of your notebook.\n",
    "\n",
    "It's good that you have included the key takeaway for each chart in markdown cells (e.g. there is high negative correlation between participation rates and test scores), but please try to take it one step further by (1) explaining the phenomenon -- why is there a negative correlation between participation rates and test scores, and (2) linking it back to your problem statement -- what does it mean for your son's education? If you are unable to figure out the reason for a certain relationship, please conduct external research and make your best attempt to explain.</font>"
   ]
  },
  {
   "cell_type": "markdown",
   "metadata": {},
   "source": [
    "## I created a correlation headmap for SAT and ACT dataset"
   ]
  },
  {
   "cell_type": "code",
   "execution_count": 913,
   "metadata": {},
   "outputs": [
    {
     "data": {
      "image/png": "[encoded data removed]",
      "text/plain": [
       "<Figure size 1152x648 with 2 Axes>"
      ]
     },
     "metadata": {
      "needs_background": "light"
     },
     "output_type": "display_data"
    }
   ],
   "source": [
    "# Establish size of figure.\n",
    "plt.figure(figsize = (16,9))\n",
    "# Get correlation of variables.\n",
    "corr = db_satact_all.corr()\n",
    "# Set up mask to be \"True\" in the upper triangle.\n",
    "mask = np.zeros_like(corr)\n",
    "mask[np.triu_indices_from(mask)] = True\n",
    "# Plot our correlation heatmap, while masking the upper triangle to be white.\n",
    "with sns.axes_style(\"white\"):\n",
    "    sns.heatmap(corr, mask = mask, square = True, annot = True, vmin = -1, vmax = 1, linewidths = .5)"
   ]
  },
  {
   "cell_type": "markdown",
   "metadata": {},
   "source": [
    "- There is high negative correlation ACT participation rate and SAT participation rate. \n",
    "- A declining in participation in ACT will result in increasing participation in SAT. The people will likely select either one of the SAT or ACT test. To increase participation in SAT, we will need to get focus on states which favour ACT and win them over.\n",
    "- There is high negative correlation in the ACT scores (english, reading, science, composite) with ACT participation rate. With increased participation, the spread of the scores will be wider and thus overall average scores will be lower.\n",
    "- The same goes to explain the SAT scores (total, math, ebrw) has high negative correlation with the SAT participate rate."
   ]
  },
  {
   "cell_type": "markdown",
   "metadata": {},
   "source": [
    "## I am plotting a histogram to find out the spread of the ACT participation from 2017 to 2019"
   ]
  },
  {
   "cell_type": "code",
   "execution_count": 914,
   "metadata": {},
   "outputs": [
    {
     "name": "stdout",
     "output_type": "stream",
     "text": [
      "Median :  0.655\n",
      "Mean :  0.6145512820512818\n"
     ]
    },
    {
     "data": {
      "image/png": "[encoded data removed]",
      "text/plain": [
       "<Figure size 432x288 with 1 Axes>"
      ]
     },
     "metadata": {
      "needs_background": "light"
     },
     "output_type": "display_data"
    }
   ],
   "source": [
    "plt.hist(db_act_all['composite'], bins = 5)\n",
    "plt.title('ACT Participation for all states from 2017 to 2019');\n",
    "print(\"Median : \",db_act_all['participation'].median())\n",
    "print(\"Mean : \",db_act_all['participation'].mean())"
   ]
  },
  {
   "cell_type": "markdown",
   "metadata": {},
   "source": [
    "**Distribution is slightly positively skewed whereby mean (21.47)> median (21.15)**"
   ]
  },
  {
   "cell_type": "markdown",
   "metadata": {},
   "source": [
    "## I am plotting a histogram to find out the spread of the SAT participation from 2017 to 2019"
   ]
  },
  {
   "cell_type": "code",
   "execution_count": 915,
   "metadata": {},
   "outputs": [
    {
     "name": "stdout",
     "output_type": "stream",
     "text": [
      "Median :  0.5\n",
      "Mean :  0.44869281045751647\n"
     ]
    },
    {
     "data": {
      "image/png": "[encoded data removed]",
      "text/plain": [
       "<Figure size 432x288 with 1 Axes>"
      ]
     },
     "metadata": {
      "needs_background": "light"
     },
     "output_type": "display_data"
    }
   ],
   "source": [
    "plt.hist(db_sat_all['total'], bins = 5)\n",
    "plt.title('SAT Participation for all states from 2017 to 2019');\n",
    "print(\"Median : \",db_sat_all['participation'].median())\n",
    "print(\"Mean : \",db_sat_all['participation'].mean())"
   ]
  },
  {
   "cell_type": "markdown",
   "metadata": {},
   "source": [
    "**The distribution for SAT participation has two peaks. This may be due to polcy whereby some states choose to use SAT as the standardized test for college entry**"
   ]
  },
  {
   "cell_type": "markdown",
   "metadata": {},
   "source": [
    "## I am plotting a boxplot to find out the spread of ACT participation from 2017 to 2019"
   ]
  },
  {
   "cell_type": "code",
   "execution_count": 916,
   "metadata": {},
   "outputs": [
    {
     "data": {
      "image/png": "[encoded data removed]",
      "text/plain": [
       "<Figure size 1080x720 with 1 Axes>"
      ]
     },
     "metadata": {},
     "output_type": "display_data"
    }
   ],
   "source": [
    "# Plot boxplot using seaborn on ACT\n",
    "fig = plt.figure(1, figsize=(15,10))\n",
    "fig.suptitle(\"ACT Participation from Year 2017 to 2019\", fontsize=14, fontweight='bold')\n",
    "fig.set_facecolor(\"white\")\n",
    "ax = fig.add_subplot()\n",
    "fig.subplots_adjust(top=0.90)\n",
    "ax.set_facecolor(\"white\")\n",
    "ax.set_title(\"From Year 2017 to 2019\", fontsize=12)\n",
    "bb=sns.boxplot(x=\"year\", y=\"participation\", hue=\"year\", palette=[\"orange\", \"cyan\", \"green\"], data=db_act_all)\n",
    "sns.despine(offset=10, trim=True)\n",
    "db_act_all_2017 = db_act_all[db_act_all['year'] == '2017']\n",
    "db_act_all_2018 = db_act_all[db_act_all['year'] == '2018']\n",
    "db_act_all_2019 = db_act_all[db_act_all['year'] == '2019']\n",
    "medians = db_act_all_2017['participation'].median(), db_act_all_2018['participation'].median(), db_act_all_2019['participation'].median()\n",
    "vertical_offset = db_act_all['participation'].median()*0.01\n",
    "for xtick in bb.get_xticks():\n",
    "    bb.text(xtick, medians[xtick] + vertical_offset, \"median={:.2f}\".format(medians[xtick]), horizontalalignment='center', size='medium', color='k', weight='light')\n",
    "ax.set_xlabel(\"Year\")\n",
    "ax.set_ylabel(\"ACT Participation\")\n",
    "ax.set_ylim(0, 1.2)\n",
    "legend = ax.legend(loc='upper right', shadow=True, fontsize=12)\n",
    "plt.show()\n"
   ]
  },
  {
   "cell_type": "markdown",
   "metadata": {},
   "source": [
    "**Based on the boxplot, we can see the participation rate for ACT has been decreasing from 2017 to 2019**"
   ]
  },
  {
   "cell_type": "markdown",
   "metadata": {},
   "source": [
    "## I am plotting a boxplot to find out the spread of SAT participation from 2017 to 2019"
   ]
  },
  {
   "cell_type": "code",
   "execution_count": 917,
   "metadata": {},
   "outputs": [
    {
     "data": {
      "image/png": "[encoded data removed]",
      "text/plain": [
       "<Figure size 1080x720 with 1 Axes>"
      ]
     },
     "metadata": {},
     "output_type": "display_data"
    }
   ],
   "source": [
    "# Plot boxplot using seaborn on SAT\n",
    "fig = plt.figure(1, figsize=(15,10))\n",
    "fig.suptitle(\"SAT Participation from Year 2017 to 2019\", fontsize=14, fontweight='bold')\n",
    "fig.set_facecolor(\"white\")\n",
    "ax = fig.add_subplot()\n",
    "fig.subplots_adjust(top=0.90)\n",
    "ax.set_facecolor(\"white\")\n",
    "ax.set_title(\"From Year 2017 to 2019\", fontsize=12)\n",
    "#sns.set(style=\"ticks\", palette=\"pastel\")\n",
    "bb=sns.boxplot(x=\"year\", y=\"participation\", hue=\"year\", palette=[\"orange\", \"cyan\", \"green\"], data=db_sat_all)\n",
    "sns.despine(offset=10, trim=True)\n",
    "db_sat_all_2017 = db_sat_all[db_sat_all['year'] == '2017']\n",
    "db_sat_all_2018 = db_sat_all[db_sat_all['year'] == '2018']\n",
    "db_sat_all_2019 = db_sat_all[db_sat_all['year'] == '2019']\n",
    "medians = db_sat_all_2017['participation'].median(), db_sat_all_2018['participation'].median(), db_sat_all_2019['participation'].median()\n",
    "vertical_offset = db_sat_all['participation'].median()*0.01\n",
    "for xtick in bb.get_xticks():\n",
    "    bb.text(xtick, medians[xtick] + vertical_offset, \"median={:.2f}\".format(medians[xtick]), horizontalalignment='center', size='medium', color='k', weight='light')\n",
    "ax.set_xlabel(\"Year\")\n",
    "ax.set_ylabel(\"SAT Participation\")\n",
    "ax.set_ylim(0, 1.2)\n",
    "legend = ax.legend(loc='upper right', shadow=True, fontsize=12)\n",
    "plt.show()"
   ]
  },
  {
   "cell_type": "markdown",
   "metadata": {},
   "source": [
    "**Based on the boxplot, we can see the participation rate for SAT has been increasing from 2017 to 2019. The adoption of SAT has been improving throughout the years.**"
   ]
  },
  {
   "cell_type": "markdown",
   "metadata": {},
   "source": [
    "## I am plotting a scatter plot to find out relationship between ACT participation and SAT participation"
   ]
  },
  {
   "cell_type": "code",
   "execution_count": 918,
   "metadata": {
    "scrolled": true
   },
   "outputs": [
    {
     "data": {
      "image/png": "[encoded data removed]",
      "text/plain": [
       "<Figure size 432x288 with 1 Axes>"
      ]
     },
     "metadata": {},
     "output_type": "display_data"
    }
   ],
   "source": [
    "db_satact_all_state = db_satact_all.groupby(['state']).mean()\n",
    "db_satact_all_state = db_satact_all_state.reset_index()\n",
    "# Establish the size of the figure.\n",
    "fig = plt.figure(1, figsize=(6, 4))\n",
    "fig.suptitle(\"Mean SAT Participation versus Mean ACT Participation\", fontsize=12, fontweight='bold')\n",
    "fig.set_facecolor(\"white\")\n",
    "ax = fig.add_subplot()\n",
    "fig.subplots_adjust(top=0.90)\n",
    "ax.set_facecolor(\"white\")\n",
    "# Create scatterplot of Mean ACT Participation versus Mean ACT Participation\n",
    "sns.regplot(\n",
    "    x='participation_act', \n",
    "    y='participation_sat',\n",
    "    data=db_satact_all_state,\n",
    "    color = 'green',\n",
    ");\n",
    "mean_act_sat_part_total_corr = db_satact_all_state['participation_act'].corr(db_satact_all_state['participation_sat'], method='pearson')\n",
    "plt.text(0.7, 0.7, 'r = {:.3f}'.format(mean_act_sat_part_total_corr), color=\"red\", fontsize=15)\n",
    "ax.set_xlabel(\"Mean ACT Participation\")\n",
    "ax.set_ylabel(\"Mean SAT Participation\")\n",
    "#ax.set_ylim(920, 1320)\n",
    "plt.show()\n",
    "\n"
   ]
  },
  {
   "cell_type": "markdown",
   "metadata": {},
   "source": [
    "- There is high negative correlation between ACT and SAT Participation."
   ]
  },
  {
   "cell_type": "markdown",
   "metadata": {},
   "source": [
    "## I am plotting a line chart to find out the participation rate for both ACT and SAT from year 2017 to 2019"
   ]
  },
  {
   "cell_type": "code",
   "execution_count": 919,
   "metadata": {},
   "outputs": [
    {
     "data": {
      "image/png": "[encoded data removed]",
      "text/plain": [
       "<Figure size 1080x504 with 1 Axes>"
      ]
     },
     "metadata": {},
     "output_type": "display_data"
    }
   ],
   "source": [
    "\n",
    "# Group ACT data by year and calulate mean for each year\n",
    "db_act_all_part = db_act_all.groupby(['year']).mean()\n",
    "db_act_all_part1 = db_act_all_part.reset_index()\n",
    "# Group SAT data by year and calulate mean for each year\n",
    "db_sat_all_part = db_sat_all.groupby(['year']).mean()\n",
    "db_sat_all_part1 = db_sat_all_part.reset_index()\n",
    "# Plot line graph for ACT and SAT participation from year 2017 to 2019\n",
    "db_act_all_part2 = db_act_all_part1.iloc[:,1]\n",
    "db_sat_all_part2 = db_sat_all_part1.iloc[:,1]\n",
    "fig = plt.figure(1, figsize=(15,7))\n",
    "fig.suptitle(\"Participation from Year 2017 to 2019\", fontsize=18, fontweight='bold')\n",
    "fig.set_facecolor(\"white\")\n",
    "ax = fig.add_subplot()\n",
    "fig.subplots_adjust(top=0.90)\n",
    "ax.set_facecolor(\"white\")\n",
    "ax.set_title(\"From Year 2017 to 2019\", fontsize=15)\n",
    "ax.plot(db_act_all_part1['year'], db_act_all_part2, 'bo-', label='ACT', linewidth=3)\n",
    "ax.plot(db_sat_all_part1['year'], db_sat_all_part2, 'go-', label='SAT', linewidth=3)\n",
    "ax.set_xlabel(\"Year\", fontsize=15)\n",
    "ax.set_ylabel(\"Participation\", fontsize=15)\n",
    "plt.xticks(db_act_all_part1['year'], fontsize=10, rotation = 0)\n",
    "legend = ax.legend(loc='upper right', shadow=True, fontsize=12)\n",
    "plt.show()\n"
   ]
  },
  {
   "cell_type": "markdown",
   "metadata": {},
   "source": [
    "**As seen in plot above, the SAT participation has been increasing from 2017 to 2019 while the ACT participation rate has been decreasing. This may be due to SAT is gaining more market share. Possible ACT participants switched to SAT from 2017 to 2019**"
   ]
  },
  {
   "cell_type": "markdown",
   "metadata": {},
   "source": [
    "## I am plotting a bar chart to find out the SAT participation rates for all states"
   ]
  },
  {
   "cell_type": "code",
   "execution_count": 920,
   "metadata": {},
   "outputs": [
    {
     "data": {
      "image/png": "[encoded data removed]",
      "text/plain": [
       "<Figure size 1440x576 with 1 Axes>"
      ]
     },
     "metadata": {},
     "output_type": "display_data"
    }
   ],
   "source": [
    "# Establish the size of the figure.\n",
    "fig = plt.figure(1, figsize=(20,8))\n",
    "# Create bar chart of state versus SAT participation.\n",
    "fig.suptitle(\"State versus SAT participation\", fontsize=14, fontweight='bold')\n",
    "fig.set_facecolor(\"white\")\n",
    "ax = fig.add_subplot()\n",
    "fig.subplots_adjust(top=0.90)\n",
    "ax.set_facecolor(\"white\")\n",
    "w = 0.8\n",
    "plt.bar(db_satact_all_state['state'], db_satact_all_state['participation_sat'], label = \"state\", width=w)\n",
    "ax.set_xlabel(\"State\")\n",
    "ax.set_ylabel(\"SAT participation\")\n",
    "ax.set_ylim(0, 1.2)\n",
    "plt.xticks(db_satact_all_state['state'], fontsize=10, rotation = 90)\n",
    "legend = ax.legend(loc='upper right', shadow=True, fontsize=12)\n",
    "plt.show()"
   ]
  },
  {
   "cell_type": "markdown",
   "metadata": {},
   "source": [
    "**Alabama, Akansas, Iowa, Kansas, Kentucky, Louisana, Minesta, Missisippi, Missouri, Montana, Nebraska, New Mexico, North Dakota, South Dakota, Tenessee, Utag, Wscomsin, Wyoming has extremely low participation**"
   ]
  },
  {
   "cell_type": "markdown",
   "metadata": {},
   "source": [
    "## I am plotting a bar chart to find out the ACT participation rates for all states"
   ]
  },
  {
   "cell_type": "code",
   "execution_count": 921,
   "metadata": {},
   "outputs": [
    {
     "data": {
      "image/png": "[encoded data removed]",
      "text/plain": [
       "<Figure size 1440x576 with 1 Axes>"
      ]
     },
     "metadata": {},
     "output_type": "display_data"
    }
   ],
   "source": [
    "# Establish the size of the figure.\n",
    "fig = plt.figure(7, figsize=(20,8))\n",
    "# Create bar chart of state versus ACT participation.\n",
    "fig.suptitle(\"State versus ACT participation\", fontsize=14, fontweight='bold')\n",
    "fig.set_facecolor(\"white\")\n",
    "ax = fig.add_subplot()\n",
    "fig.subplots_adjust(top=0.90)\n",
    "ax.set_facecolor(\"white\")\n",
    "w = 0.8\n",
    "plt.bar(db_satact_all_state['state'], db_satact_all_state['participation_act'], label = \"state\", width=w)\n",
    "ax.set_xlabel(\"State\")\n",
    "ax.set_ylabel(\"ACT participation\")\n",
    "ax.set_ylim(0, 1.2)\n",
    "plt.xticks(db_satact_all_state['state'], fontsize=10, rotation = 90)\n",
    "legend = ax.legend(loc='upper right', shadow=True, fontsize=12)\n",
    "plt.show()"
   ]
  },
  {
   "cell_type": "markdown",
   "metadata": {},
   "source": [
    "- Alabama, Akansas, Iowa, Kansas, Kentucky, Louisana, Minesota, Missisippi, Missouri, Montana, Nebraska, New Mexico, North Dakota, South Dakota, Tenessee, Utag, Wscomsin, Wyoming has extremely low SAT participation\n",
    "- As check against ACT participation, Alabama, Akansas, Iowa, Kansas, Kentucky, Louisana, Minesota, Missisippi, Missouri, Montana, Nebrasja, New Mexico, North Dakota, South Dakota, Tenessee, Wscomsin and Wyoming has good ACT participation**\n",
    "- Clearly, we need to target those low participation states as listed to promote SAT"
   ]
  },
  {
   "cell_type": "markdown",
   "metadata": {},
   "source": [
    "## Outside Research"
   ]
  },
  {
   "cell_type": "markdown",
   "metadata": {},
   "source": [
    "**Why exceptional low SAT participation for some states?**\n",
    "- \n",
    "- North Dakota colleges may drop requirement for ACT, SAT scores 2022 school year https://www.inforum.com/news/north-dakota/north-dakota-colleges-may-drop-requirement-for-act-sat-scores\n",
    "\n",
    "- The Iowa Board of Regents has waived the requirement for students needing to submit either an ACT or SAT in order to be admitted for the Fall 2022 term. Students who wish to be considered for admission without a test score may leave the test score section blank on the application.https://www.iowaregents.edu/news/board-news/board-of-regents-waives-requirement-for-actsat-score-for-next-years-entering-class#:~:text=The%20Board%20of%20Regents%2C%20State%20of%20Iowa%2C%20has,of%20Northern%20Iowa%20for%20next%20year%E2%80%99s%20entering%20class.\n",
    "\n",
    "- Alabama colleges back away from using ACT/SAT scores for admission https://www.al.com/news/2020/10/alabama-colleges-back-away-from-using-actsat-scores-for-admission.html\n",
    "\n",
    "- which state require SAT or ACT? https://www.edweek.org/teaching-learning/which-states-require-students-to-take-the-sat-or-act"
   ]
  },
  {
   "cell_type": "markdown",
   "metadata": {},
   "source": [
    "## Conclusions and Recommendations"
   ]
  },
  {
   "cell_type": "markdown",
   "metadata": {},
   "source": [
    "- Overall, SAT participation from 2017 and 2019 has been increasing. Based on the observation, we clearly know that the SAT participation and ACT participation is negatively correlated. \n",
    "- In the bar chart of the states verus the participation, we know that Alabama, Akansas, Iowa, Kansas, Kentucky, Louisana, Minesota, Missisippi, Missouri, Montana, Nebraska, New Mexico, North Dakota, South Dakota, Tenessee, Utah, Wsconsin, Wyoming has extremely low SAT participation.\n",
    "- ACT participation is high in these states. \n",
    "- Outside Research confirms that Alabama, Kentucky, Missisippi, Montana, Nebraska, North Dakota, Utah, Wsconsin, Wyoming is adopting ACT as the defacto test for college admission\n",
    "- I will recommend to target the SAT marketing to the states (eg. Akansas, Iowa, Kansas, Louisana, Minesota, Missouri,New Mexico, South Dakota, Tenessee) and woo them over to SAT"
   ]
  },
  {
   "cell_type": "code",
   "execution_count": null,
   "metadata": {},
   "outputs": [],
   "source": []
  }
 ],
 "metadata": {
  "anaconda-cloud": {},
  "kernelspec": {
   "display_name": "Python 3 (ipykernel)",
   "language": "python",
   "name": "python3"
  },
  "language_info": {
   "codemirror_mode": {
    "name": "ipython",
    "version": 3
   },
   "file_extension": ".py",
   "mimetype": "text/x-python",
   "name": "python",
   "nbconvert_exporter": "python",
   "pygments_lexer": "ipython3",
   "version": "3.9.7"
  }
 },
 "nbformat": 4,
 "nbformat_minor": 4
}
